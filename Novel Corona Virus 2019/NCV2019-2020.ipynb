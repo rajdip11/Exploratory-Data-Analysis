{
 "cells": [
  {
   "cell_type": "code",
   "execution_count": 70,
   "metadata": {
    "ExecuteTime": {
     "end_time": "2020-02-28T16:46:25.722907Z",
     "start_time": "2020-02-28T16:46:25.707915Z"
    }
   },
   "outputs": [
    {
     "data": {
      "text/html": [
       "        <script type=\"text/javascript\">\n",
       "        window.PlotlyConfig = {MathJaxConfig: 'local'};\n",
       "        if (window.MathJax) {MathJax.Hub.Config({SVG: {font: \"STIX-Web\"}});}\n",
       "        if (typeof require !== 'undefined') {\n",
       "        require.undef(\"plotly\");\n",
       "        requirejs.config({\n",
       "            paths: {\n",
       "                'plotly': ['https://cdn.plot.ly/plotly-latest.min']\n",
       "            }\n",
       "        });\n",
       "        require(['plotly'], function(Plotly) {\n",
       "            window._Plotly = Plotly;\n",
       "        });\n",
       "        }\n",
       "        </script>\n",
       "        "
      ]
     },
     "metadata": {},
     "output_type": "display_data"
    }
   ],
   "source": [
    "''' Importing Basic Libraries'''\n",
    "import numpy as np\n",
    "import pandas as pd\n",
    "\n",
    "''' Customize Visualization\n",
    "Seaborn and Matplotlib visualization'''\n",
    "import altair as alt\n",
    "import matplotlib.pyplot as plt\n",
    "import seaborn as sns\n",
    "sns.set_style('whitegrid')\n",
    "%matplotlib inline\n",
    "\n",
    "'''Plotly Visualization'''\n",
    "import plotly.offline as py\n",
    "from plotly.offline import iplot, init_notebook_mode\n",
    "import plotly.graph_objs as go\n",
    "py.init_notebook_mode(connected=True) # Required to use plotly offline in jupyter notebook"
   ]
  },
  {
   "cell_type": "markdown",
   "metadata": {
    "ExecuteTime": {
     "end_time": "2020-02-28T15:06:54.240964Z",
     "start_time": "2020-02-28T15:06:54.237984Z"
    }
   },
   "source": [
    "# Reading the Dataset"
   ]
  },
  {
   "cell_type": "code",
   "execution_count": 71,
   "metadata": {
    "ExecuteTime": {
     "end_time": "2020-02-28T16:46:25.763884Z",
     "start_time": "2020-02-28T16:46:25.724906Z"
    }
   },
   "outputs": [
    {
     "data": {
      "text/html": [
       "<div>\n",
       "<style scoped>\n",
       "    .dataframe tbody tr th:only-of-type {\n",
       "        vertical-align: middle;\n",
       "    }\n",
       "\n",
       "    .dataframe tbody tr th {\n",
       "        vertical-align: top;\n",
       "    }\n",
       "\n",
       "    .dataframe thead th {\n",
       "        text-align: right;\n",
       "    }\n",
       "</style>\n",
       "<table border=\"1\" class=\"dataframe\">\n",
       "  <thead>\n",
       "    <tr style=\"text-align: right;\">\n",
       "      <th></th>\n",
       "      <th>Sno</th>\n",
       "      <th>Date</th>\n",
       "      <th>Province/State</th>\n",
       "      <th>Country</th>\n",
       "      <th>Last Update</th>\n",
       "      <th>Confirmed</th>\n",
       "      <th>Deaths</th>\n",
       "      <th>Recovered</th>\n",
       "    </tr>\n",
       "  </thead>\n",
       "  <tbody>\n",
       "    <tr>\n",
       "      <th>0</th>\n",
       "      <td>1</td>\n",
       "      <td>01/22/2020 12:00:00</td>\n",
       "      <td>Anhui</td>\n",
       "      <td>China</td>\n",
       "      <td>01/22/2020 12:00:00</td>\n",
       "      <td>1.0</td>\n",
       "      <td>0.0</td>\n",
       "      <td>0.0</td>\n",
       "    </tr>\n",
       "    <tr>\n",
       "      <th>1</th>\n",
       "      <td>2</td>\n",
       "      <td>01/22/2020 12:00:00</td>\n",
       "      <td>Beijing</td>\n",
       "      <td>China</td>\n",
       "      <td>01/22/2020 12:00:00</td>\n",
       "      <td>14.0</td>\n",
       "      <td>0.0</td>\n",
       "      <td>0.0</td>\n",
       "    </tr>\n",
       "    <tr>\n",
       "      <th>2</th>\n",
       "      <td>3</td>\n",
       "      <td>01/22/2020 12:00:00</td>\n",
       "      <td>Chongqing</td>\n",
       "      <td>China</td>\n",
       "      <td>01/22/2020 12:00:00</td>\n",
       "      <td>6.0</td>\n",
       "      <td>0.0</td>\n",
       "      <td>0.0</td>\n",
       "    </tr>\n",
       "    <tr>\n",
       "      <th>3</th>\n",
       "      <td>4</td>\n",
       "      <td>01/22/2020 12:00:00</td>\n",
       "      <td>Fujian</td>\n",
       "      <td>China</td>\n",
       "      <td>01/22/2020 12:00:00</td>\n",
       "      <td>1.0</td>\n",
       "      <td>0.0</td>\n",
       "      <td>0.0</td>\n",
       "    </tr>\n",
       "    <tr>\n",
       "      <th>4</th>\n",
       "      <td>5</td>\n",
       "      <td>01/22/2020 12:00:00</td>\n",
       "      <td>Gansu</td>\n",
       "      <td>China</td>\n",
       "      <td>01/22/2020 12:00:00</td>\n",
       "      <td>0.0</td>\n",
       "      <td>0.0</td>\n",
       "      <td>0.0</td>\n",
       "    </tr>\n",
       "  </tbody>\n",
       "</table>\n",
       "</div>"
      ],
      "text/plain": [
       "   Sno                 Date Province/State Country          Last Update  \\\n",
       "0    1  01/22/2020 12:00:00          Anhui   China  01/22/2020 12:00:00   \n",
       "1    2  01/22/2020 12:00:00        Beijing   China  01/22/2020 12:00:00   \n",
       "2    3  01/22/2020 12:00:00      Chongqing   China  01/22/2020 12:00:00   \n",
       "3    4  01/22/2020 12:00:00         Fujian   China  01/22/2020 12:00:00   \n",
       "4    5  01/22/2020 12:00:00          Gansu   China  01/22/2020 12:00:00   \n",
       "\n",
       "   Confirmed  Deaths  Recovered  \n",
       "0        1.0     0.0        0.0  \n",
       "1       14.0     0.0        0.0  \n",
       "2        6.0     0.0        0.0  \n",
       "3        1.0     0.0        0.0  \n",
       "4        0.0     0.0        0.0  "
      ]
     },
     "execution_count": 71,
     "metadata": {},
     "output_type": "execute_result"
    }
   ],
   "source": [
    "data = pd.read_csv('data.csv')\n",
    "data.head()"
   ]
  },
  {
   "cell_type": "code",
   "execution_count": 72,
   "metadata": {
    "ExecuteTime": {
     "end_time": "2020-02-28T16:46:25.779874Z",
     "start_time": "2020-02-28T16:46:25.766882Z"
    }
   },
   "outputs": [
    {
     "name": "stdout",
     "output_type": "stream",
     "text": [
      "<class 'pandas.core.frame.DataFrame'>\n",
      "RangeIndex: 1719 entries, 0 to 1718\n",
      "Data columns (total 8 columns):\n",
      " #   Column          Non-Null Count  Dtype  \n",
      "---  ------          --------------  -----  \n",
      " 0   Sno             1719 non-null   int64  \n",
      " 1   Date            1719 non-null   object \n",
      " 2   Province/State  1257 non-null   object \n",
      " 3   Country         1719 non-null   object \n",
      " 4   Last Update     1719 non-null   object \n",
      " 5   Confirmed       1719 non-null   float64\n",
      " 6   Deaths          1719 non-null   float64\n",
      " 7   Recovered       1719 non-null   float64\n",
      "dtypes: float64(3), int64(1), object(4)\n",
      "memory usage: 107.6+ KB\n"
     ]
    }
   ],
   "source": [
    "# Checking the feature info\n",
    "data.info()"
   ]
  },
  {
   "cell_type": "markdown",
   "metadata": {},
   "source": [
    "# Data Cleaning"
   ]
  },
  {
   "cell_type": "code",
   "execution_count": 73,
   "metadata": {
    "ExecuteTime": {
     "end_time": "2020-02-28T16:46:26.606398Z",
     "start_time": "2020-02-28T16:46:25.782873Z"
    }
   },
   "outputs": [
    {
     "data": {
      "text/html": [
       "<div>\n",
       "<style scoped>\n",
       "    .dataframe tbody tr th:only-of-type {\n",
       "        vertical-align: middle;\n",
       "    }\n",
       "\n",
       "    .dataframe tbody tr th {\n",
       "        vertical-align: top;\n",
       "    }\n",
       "\n",
       "    .dataframe thead th {\n",
       "        text-align: right;\n",
       "    }\n",
       "</style>\n",
       "<table border=\"1\" class=\"dataframe\">\n",
       "  <thead>\n",
       "    <tr style=\"text-align: right;\">\n",
       "      <th></th>\n",
       "      <th>Date</th>\n",
       "      <th>Province/State</th>\n",
       "      <th>Country</th>\n",
       "      <th>Last Update</th>\n",
       "      <th>Confirmed</th>\n",
       "      <th>Deaths</th>\n",
       "      <th>Recovered</th>\n",
       "    </tr>\n",
       "  </thead>\n",
       "  <tbody>\n",
       "    <tr>\n",
       "      <th>0</th>\n",
       "      <td>2020-01-22 12:00:00</td>\n",
       "      <td>Anhui</td>\n",
       "      <td>China</td>\n",
       "      <td>2020-01-22 12:00:00</td>\n",
       "      <td>1.0</td>\n",
       "      <td>0.0</td>\n",
       "      <td>0.0</td>\n",
       "    </tr>\n",
       "    <tr>\n",
       "      <th>1</th>\n",
       "      <td>2020-01-22 12:00:00</td>\n",
       "      <td>Beijing</td>\n",
       "      <td>China</td>\n",
       "      <td>2020-01-22 12:00:00</td>\n",
       "      <td>14.0</td>\n",
       "      <td>0.0</td>\n",
       "      <td>0.0</td>\n",
       "    </tr>\n",
       "    <tr>\n",
       "      <th>2</th>\n",
       "      <td>2020-01-22 12:00:00</td>\n",
       "      <td>Chongqing</td>\n",
       "      <td>China</td>\n",
       "      <td>2020-01-22 12:00:00</td>\n",
       "      <td>6.0</td>\n",
       "      <td>0.0</td>\n",
       "      <td>0.0</td>\n",
       "    </tr>\n",
       "    <tr>\n",
       "      <th>3</th>\n",
       "      <td>2020-01-22 12:00:00</td>\n",
       "      <td>Fujian</td>\n",
       "      <td>China</td>\n",
       "      <td>2020-01-22 12:00:00</td>\n",
       "      <td>1.0</td>\n",
       "      <td>0.0</td>\n",
       "      <td>0.0</td>\n",
       "    </tr>\n",
       "    <tr>\n",
       "      <th>4</th>\n",
       "      <td>2020-01-22 12:00:00</td>\n",
       "      <td>Gansu</td>\n",
       "      <td>China</td>\n",
       "      <td>2020-01-22 12:00:00</td>\n",
       "      <td>0.0</td>\n",
       "      <td>0.0</td>\n",
       "      <td>0.0</td>\n",
       "    </tr>\n",
       "  </tbody>\n",
       "</table>\n",
       "</div>"
      ],
      "text/plain": [
       "                 Date Province/State Country         Last Update  Confirmed  \\\n",
       "0 2020-01-22 12:00:00          Anhui   China 2020-01-22 12:00:00        1.0   \n",
       "1 2020-01-22 12:00:00        Beijing   China 2020-01-22 12:00:00       14.0   \n",
       "2 2020-01-22 12:00:00      Chongqing   China 2020-01-22 12:00:00        6.0   \n",
       "3 2020-01-22 12:00:00         Fujian   China 2020-01-22 12:00:00        1.0   \n",
       "4 2020-01-22 12:00:00          Gansu   China 2020-01-22 12:00:00        0.0   \n",
       "\n",
       "   Deaths  Recovered  \n",
       "0     0.0        0.0  \n",
       "1     0.0        0.0  \n",
       "2     0.0        0.0  \n",
       "3     0.0        0.0  \n",
       "4     0.0        0.0  "
      ]
     },
     "execution_count": 73,
     "metadata": {},
     "output_type": "execute_result"
    }
   ],
   "source": [
    "'''Data Cleaning'''\n",
    "data['Last Update'] = data['Last Update'].apply(pd.to_datetime)\n",
    "data['Date'] = data['Date'].apply(pd.to_datetime)\n",
    "data.drop('Sno',axis=1,inplace=True)\n",
    "data.head()"
   ]
  },
  {
   "cell_type": "markdown",
   "metadata": {},
   "source": [
    "# Present Scenario:Global"
   ]
  },
  {
   "cell_type": "code",
   "execution_count": 74,
   "metadata": {
    "ExecuteTime": {
     "end_time": "2020-02-28T16:46:26.621407Z",
     "start_time": "2020-02-28T16:46:26.607397Z"
    }
   },
   "outputs": [
    {
     "data": {
      "text/html": [
       "<div>\n",
       "<style scoped>\n",
       "    .dataframe tbody tr th:only-of-type {\n",
       "        vertical-align: middle;\n",
       "    }\n",
       "\n",
       "    .dataframe tbody tr th {\n",
       "        vertical-align: top;\n",
       "    }\n",
       "\n",
       "    .dataframe thead th {\n",
       "        text-align: right;\n",
       "    }\n",
       "</style>\n",
       "<table border=\"1\" class=\"dataframe\">\n",
       "  <thead>\n",
       "    <tr style=\"text-align: right;\">\n",
       "      <th></th>\n",
       "      <th>Date</th>\n",
       "      <th>Province/State</th>\n",
       "      <th>Country</th>\n",
       "      <th>Last Update</th>\n",
       "      <th>Confirmed</th>\n",
       "      <th>Deaths</th>\n",
       "      <th>Recovered</th>\n",
       "    </tr>\n",
       "  </thead>\n",
       "  <tbody>\n",
       "    <tr>\n",
       "      <th>0</th>\n",
       "      <td>2020-01-22 12:00:00</td>\n",
       "      <td>Anhui</td>\n",
       "      <td>China</td>\n",
       "      <td>2020-01-22 12:00:00</td>\n",
       "      <td>1.0</td>\n",
       "      <td>0.0</td>\n",
       "      <td>0.0</td>\n",
       "    </tr>\n",
       "    <tr>\n",
       "      <th>1</th>\n",
       "      <td>2020-01-22 12:00:00</td>\n",
       "      <td>Beijing</td>\n",
       "      <td>China</td>\n",
       "      <td>2020-01-22 12:00:00</td>\n",
       "      <td>14.0</td>\n",
       "      <td>0.0</td>\n",
       "      <td>0.0</td>\n",
       "    </tr>\n",
       "    <tr>\n",
       "      <th>2</th>\n",
       "      <td>2020-01-22 12:00:00</td>\n",
       "      <td>Chongqing</td>\n",
       "      <td>China</td>\n",
       "      <td>2020-01-22 12:00:00</td>\n",
       "      <td>6.0</td>\n",
       "      <td>0.0</td>\n",
       "      <td>0.0</td>\n",
       "    </tr>\n",
       "    <tr>\n",
       "      <th>3</th>\n",
       "      <td>2020-01-22 12:00:00</td>\n",
       "      <td>Fujian</td>\n",
       "      <td>China</td>\n",
       "      <td>2020-01-22 12:00:00</td>\n",
       "      <td>1.0</td>\n",
       "      <td>0.0</td>\n",
       "      <td>0.0</td>\n",
       "    </tr>\n",
       "    <tr>\n",
       "      <th>4</th>\n",
       "      <td>2020-01-22 12:00:00</td>\n",
       "      <td>Gansu</td>\n",
       "      <td>China</td>\n",
       "      <td>2020-01-22 12:00:00</td>\n",
       "      <td>0.0</td>\n",
       "      <td>0.0</td>\n",
       "      <td>0.0</td>\n",
       "    </tr>\n",
       "  </tbody>\n",
       "</table>\n",
       "</div>"
      ],
      "text/plain": [
       "                 Date Province/State Country         Last Update  Confirmed  \\\n",
       "0 2020-01-22 12:00:00          Anhui   China 2020-01-22 12:00:00        1.0   \n",
       "1 2020-01-22 12:00:00        Beijing   China 2020-01-22 12:00:00       14.0   \n",
       "2 2020-01-22 12:00:00      Chongqing   China 2020-01-22 12:00:00        6.0   \n",
       "3 2020-01-22 12:00:00         Fujian   China 2020-01-22 12:00:00        1.0   \n",
       "4 2020-01-22 12:00:00          Gansu   China 2020-01-22 12:00:00        0.0   \n",
       "\n",
       "   Deaths  Recovered  \n",
       "0     0.0        0.0  \n",
       "1     0.0        0.0  \n",
       "2     0.0        0.0  \n",
       "3     0.0        0.0  \n",
       "4     0.0        0.0  "
      ]
     },
     "execution_count": 74,
     "metadata": {},
     "output_type": "execute_result"
    }
   ],
   "source": [
    "import datetime \n",
    "data_currdate = data[data['Date']<datetime.datetime.now()]\n",
    "data_currdate.head()"
   ]
  },
  {
   "cell_type": "code",
   "execution_count": 75,
   "metadata": {
    "ExecuteTime": {
     "end_time": "2020-02-28T16:46:26.660367Z",
     "start_time": "2020-02-28T16:46:26.622390Z"
    }
   },
   "outputs": [
    {
     "name": "stdout",
     "output_type": "stream",
     "text": [
      "Present Global Confirmed cases,Deaths and Recovered Cases\n",
      "Globally Confirmed cases:781452.0\n",
      "Global Death cases:17949.0\n",
      "Global Recovered cases:76258.0\n"
     ]
    }
   ],
   "source": [
    "print(f'Present Global Confirmed cases,Deaths and Recovered Cases')\n",
    "print(f'Globally Confirmed cases:{data.Confirmed.sum()}')\n",
    "print(f'Global Death cases:{data.Deaths.sum()}')\n",
    "print(f'Global Recovered cases:{data.Recovered.sum()}')"
   ]
  },
  {
   "cell_type": "code",
   "execution_count": 76,
   "metadata": {
    "ExecuteTime": {
     "end_time": "2020-02-28T16:46:26.756311Z",
     "start_time": "2020-02-28T16:46:26.664365Z"
    }
   },
   "outputs": [
    {
     "name": "stdout",
     "output_type": "stream",
     "text": [
      "Country wise Confirmed cases,Death cases and Recovered Cases\n"
     ]
    },
    {
     "data": {
      "text/html": [
       "<style  type=\"text/css\" >\n",
       "    #T_dc8b2ff4_5a49_11ea_8f74_ecf4bb688b84 th {\n",
       "          font-size: 11px;\n",
       "          text-align: center;\n",
       "          font-weight: bold;\n",
       "          color: #6d6d6d;\n",
       "          background-color: #f7f7f9;\n",
       "    }    #T_dc8b2ff4_5a49_11ea_8f74_ecf4bb688b84 td {\n",
       "          font-size: 11px;\n",
       "          color: black;\n",
       "    }    #T_dc8b2ff4_5a49_11ea_8f74_ecf4bb688b84row0_col1 {\n",
       "            background-color:  #e5ffe5;\n",
       "            color:  #000000;\n",
       "            : ;\n",
       "        }    #T_dc8b2ff4_5a49_11ea_8f74_ecf4bb688b84row0_col2 {\n",
       "            background-color:  #e5ffe5;\n",
       "            color:  #000000;\n",
       "            : ;\n",
       "        }    #T_dc8b2ff4_5a49_11ea_8f74_ecf4bb688b84row0_col3 {\n",
       "            background-color:  #e5ffe5;\n",
       "            color:  #000000;\n",
       "            : ;\n",
       "        }    #T_dc8b2ff4_5a49_11ea_8f74_ecf4bb688b84row1_col1 {\n",
       "            background-color:  #e5ffe5;\n",
       "            color:  #000000;\n",
       "            : ;\n",
       "        }    #T_dc8b2ff4_5a49_11ea_8f74_ecf4bb688b84row1_col2 {\n",
       "            background-color:  #e5ffe5;\n",
       "            color:  #000000;\n",
       "            : ;\n",
       "        }    #T_dc8b2ff4_5a49_11ea_8f74_ecf4bb688b84row1_col3 {\n",
       "            background-color:  #e5ffe5;\n",
       "            color:  #000000;\n",
       "            : ;\n",
       "        }    #T_dc8b2ff4_5a49_11ea_8f74_ecf4bb688b84row2_col1 {\n",
       "            background-color:  #e5ffe5;\n",
       "            color:  #000000;\n",
       "            : ;\n",
       "        }    #T_dc8b2ff4_5a49_11ea_8f74_ecf4bb688b84row2_col2 {\n",
       "            background-color:  #e5ffe5;\n",
       "            color:  #000000;\n",
       "            : ;\n",
       "        }    #T_dc8b2ff4_5a49_11ea_8f74_ecf4bb688b84row2_col3 {\n",
       "            background-color:  #e5ffe5;\n",
       "            color:  #000000;\n",
       "            : ;\n",
       "        }    #T_dc8b2ff4_5a49_11ea_8f74_ecf4bb688b84row3_col1 {\n",
       "            background-color:  #e5ffe5;\n",
       "            color:  #000000;\n",
       "            : ;\n",
       "        }    #T_dc8b2ff4_5a49_11ea_8f74_ecf4bb688b84row3_col2 {\n",
       "            background-color:  #e5ffe5;\n",
       "            color:  #000000;\n",
       "            : ;\n",
       "        }    #T_dc8b2ff4_5a49_11ea_8f74_ecf4bb688b84row3_col3 {\n",
       "            background-color:  #e5ffe5;\n",
       "            color:  #000000;\n",
       "            : ;\n",
       "        }    #T_dc8b2ff4_5a49_11ea_8f74_ecf4bb688b84row4_col1 {\n",
       "            background-color:  #e5ffe5;\n",
       "            color:  #000000;\n",
       "            : ;\n",
       "        }    #T_dc8b2ff4_5a49_11ea_8f74_ecf4bb688b84row4_col2 {\n",
       "            background-color:  #e5ffe5;\n",
       "            color:  #000000;\n",
       "            : ;\n",
       "        }    #T_dc8b2ff4_5a49_11ea_8f74_ecf4bb688b84row4_col3 {\n",
       "            background-color:  #e5ffe5;\n",
       "            color:  #000000;\n",
       "            : ;\n",
       "        }    #T_dc8b2ff4_5a49_11ea_8f74_ecf4bb688b84row5_col1 {\n",
       "            background-color:  #e5ffe5;\n",
       "            color:  #000000;\n",
       "            : ;\n",
       "        }    #T_dc8b2ff4_5a49_11ea_8f74_ecf4bb688b84row5_col2 {\n",
       "            background-color:  #e5ffe5;\n",
       "            color:  #000000;\n",
       "            : ;\n",
       "        }    #T_dc8b2ff4_5a49_11ea_8f74_ecf4bb688b84row5_col3 {\n",
       "            background-color:  #e5ffe5;\n",
       "            color:  #000000;\n",
       "            : ;\n",
       "        }    #T_dc8b2ff4_5a49_11ea_8f74_ecf4bb688b84row6_col1 {\n",
       "            background-color:  #e5ffe5;\n",
       "            color:  #000000;\n",
       "            : ;\n",
       "        }    #T_dc8b2ff4_5a49_11ea_8f74_ecf4bb688b84row6_col2 {\n",
       "            background-color:  #e5ffe5;\n",
       "            color:  #000000;\n",
       "            : ;\n",
       "        }    #T_dc8b2ff4_5a49_11ea_8f74_ecf4bb688b84row6_col3 {\n",
       "            background-color:  #e5ffe5;\n",
       "            color:  #000000;\n",
       "            : ;\n",
       "        }    #T_dc8b2ff4_5a49_11ea_8f74_ecf4bb688b84row7_col1 {\n",
       "            background-color:  #e5ffe5;\n",
       "            color:  #000000;\n",
       "            : ;\n",
       "        }    #T_dc8b2ff4_5a49_11ea_8f74_ecf4bb688b84row7_col2 {\n",
       "            background-color:  #e5ffe5;\n",
       "            color:  #000000;\n",
       "            : ;\n",
       "        }    #T_dc8b2ff4_5a49_11ea_8f74_ecf4bb688b84row7_col3 {\n",
       "            background-color:  #e5ffe5;\n",
       "            color:  #000000;\n",
       "            : ;\n",
       "        }    #T_dc8b2ff4_5a49_11ea_8f74_ecf4bb688b84row8_col1 {\n",
       "            background-color:  #e5ffe5;\n",
       "            color:  #000000;\n",
       "            : ;\n",
       "        }    #T_dc8b2ff4_5a49_11ea_8f74_ecf4bb688b84row8_col2 {\n",
       "            background-color:  #e5ffe5;\n",
       "            color:  #000000;\n",
       "            : ;\n",
       "        }    #T_dc8b2ff4_5a49_11ea_8f74_ecf4bb688b84row8_col3 {\n",
       "            background-color:  #e5ffe5;\n",
       "            color:  #000000;\n",
       "            : ;\n",
       "        }    #T_dc8b2ff4_5a49_11ea_8f74_ecf4bb688b84row9_col1 {\n",
       "            background-color:  #e5ffe5;\n",
       "            color:  #000000;\n",
       "            : ;\n",
       "        }    #T_dc8b2ff4_5a49_11ea_8f74_ecf4bb688b84row9_col2 {\n",
       "            background-color:  #e5ffe5;\n",
       "            color:  #000000;\n",
       "            : ;\n",
       "        }    #T_dc8b2ff4_5a49_11ea_8f74_ecf4bb688b84row9_col3 {\n",
       "            background-color:  #e5ffe5;\n",
       "            color:  #000000;\n",
       "            : ;\n",
       "        }    #T_dc8b2ff4_5a49_11ea_8f74_ecf4bb688b84row10_col1 {\n",
       "            background-color:  #e5ffe5;\n",
       "            color:  #000000;\n",
       "            : ;\n",
       "        }    #T_dc8b2ff4_5a49_11ea_8f74_ecf4bb688b84row10_col2 {\n",
       "            background-color:  #e5ffe5;\n",
       "            color:  #000000;\n",
       "            : ;\n",
       "        }    #T_dc8b2ff4_5a49_11ea_8f74_ecf4bb688b84row10_col3 {\n",
       "            background-color:  #e5ffe5;\n",
       "            color:  #000000;\n",
       "            : ;\n",
       "        }    #T_dc8b2ff4_5a49_11ea_8f74_ecf4bb688b84row11_col1 {\n",
       "            background-color:  #e5ffe5;\n",
       "            color:  #000000;\n",
       "            : ;\n",
       "        }    #T_dc8b2ff4_5a49_11ea_8f74_ecf4bb688b84row11_col2 {\n",
       "            background-color:  #e5ffe5;\n",
       "            color:  #000000;\n",
       "            : ;\n",
       "        }    #T_dc8b2ff4_5a49_11ea_8f74_ecf4bb688b84row11_col3 {\n",
       "            background-color:  #e5ffe5;\n",
       "            color:  #000000;\n",
       "            : ;\n",
       "        }    #T_dc8b2ff4_5a49_11ea_8f74_ecf4bb688b84row12_col1 {\n",
       "            background-color:  #e5ffe5;\n",
       "            color:  #000000;\n",
       "            : ;\n",
       "        }    #T_dc8b2ff4_5a49_11ea_8f74_ecf4bb688b84row12_col2 {\n",
       "            background-color:  #e5ffe5;\n",
       "            color:  #000000;\n",
       "            : ;\n",
       "        }    #T_dc8b2ff4_5a49_11ea_8f74_ecf4bb688b84row12_col3 {\n",
       "            background-color:  #e5ffe5;\n",
       "            color:  #000000;\n",
       "            : ;\n",
       "        }    #T_dc8b2ff4_5a49_11ea_8f74_ecf4bb688b84row13_col1 {\n",
       "            background-color:  #e5ffe5;\n",
       "            color:  #000000;\n",
       "            : ;\n",
       "        }    #T_dc8b2ff4_5a49_11ea_8f74_ecf4bb688b84row13_col2 {\n",
       "            background-color:  #e5ffe5;\n",
       "            color:  #000000;\n",
       "            : ;\n",
       "        }    #T_dc8b2ff4_5a49_11ea_8f74_ecf4bb688b84row13_col3 {\n",
       "            background-color:  #e5ffe5;\n",
       "            color:  #000000;\n",
       "            : ;\n",
       "        }    #T_dc8b2ff4_5a49_11ea_8f74_ecf4bb688b84row14_col1 {\n",
       "            background-color:  #e5ffe5;\n",
       "            color:  #000000;\n",
       "            : ;\n",
       "        }    #T_dc8b2ff4_5a49_11ea_8f74_ecf4bb688b84row14_col2 {\n",
       "            background-color:  #e5ffe5;\n",
       "            color:  #000000;\n",
       "            : ;\n",
       "        }    #T_dc8b2ff4_5a49_11ea_8f74_ecf4bb688b84row14_col3 {\n",
       "            background-color:  #e5ffe5;\n",
       "            color:  #000000;\n",
       "            : ;\n",
       "        }    #T_dc8b2ff4_5a49_11ea_8f74_ecf4bb688b84row15_col1 {\n",
       "            background-color:  #e5ffe5;\n",
       "            color:  #000000;\n",
       "            : ;\n",
       "        }    #T_dc8b2ff4_5a49_11ea_8f74_ecf4bb688b84row15_col2 {\n",
       "            background-color:  #e5ffe5;\n",
       "            color:  #000000;\n",
       "            : ;\n",
       "        }    #T_dc8b2ff4_5a49_11ea_8f74_ecf4bb688b84row15_col3 {\n",
       "            background-color:  #e5ffe5;\n",
       "            color:  #000000;\n",
       "            : ;\n",
       "        }    #T_dc8b2ff4_5a49_11ea_8f74_ecf4bb688b84row16_col1 {\n",
       "            background-color:  #008000;\n",
       "            color:  #f1f1f1;\n",
       "            background-color:  yellow;\n",
       "        }    #T_dc8b2ff4_5a49_11ea_8f74_ecf4bb688b84row16_col2 {\n",
       "            background-color:  #008000;\n",
       "            color:  #f1f1f1;\n",
       "            background-color:  yellow;\n",
       "        }    #T_dc8b2ff4_5a49_11ea_8f74_ecf4bb688b84row16_col3 {\n",
       "            background-color:  #008000;\n",
       "            color:  #f1f1f1;\n",
       "            background-color:  yellow;\n",
       "        }    #T_dc8b2ff4_5a49_11ea_8f74_ecf4bb688b84row17_col1 {\n",
       "            background-color:  #e5ffe5;\n",
       "            color:  #000000;\n",
       "            : ;\n",
       "        }    #T_dc8b2ff4_5a49_11ea_8f74_ecf4bb688b84row17_col2 {\n",
       "            background-color:  #e5ffe5;\n",
       "            color:  #000000;\n",
       "            : ;\n",
       "        }    #T_dc8b2ff4_5a49_11ea_8f74_ecf4bb688b84row17_col3 {\n",
       "            background-color:  #e5ffe5;\n",
       "            color:  #000000;\n",
       "            : ;\n",
       "        }    #T_dc8b2ff4_5a49_11ea_8f74_ecf4bb688b84row18_col1 {\n",
       "            background-color:  #e5ffe5;\n",
       "            color:  #000000;\n",
       "            : ;\n",
       "        }    #T_dc8b2ff4_5a49_11ea_8f74_ecf4bb688b84row18_col2 {\n",
       "            background-color:  #e5ffe5;\n",
       "            color:  #000000;\n",
       "            : ;\n",
       "        }    #T_dc8b2ff4_5a49_11ea_8f74_ecf4bb688b84row18_col3 {\n",
       "            background-color:  #e5ffe5;\n",
       "            color:  #000000;\n",
       "            : ;\n",
       "        }    #T_dc8b2ff4_5a49_11ea_8f74_ecf4bb688b84row19_col1 {\n",
       "            background-color:  #e5ffe5;\n",
       "            color:  #000000;\n",
       "            : ;\n",
       "        }    #T_dc8b2ff4_5a49_11ea_8f74_ecf4bb688b84row19_col2 {\n",
       "            background-color:  #e5ffe5;\n",
       "            color:  #000000;\n",
       "            : ;\n",
       "        }    #T_dc8b2ff4_5a49_11ea_8f74_ecf4bb688b84row19_col3 {\n",
       "            background-color:  #e5ffe5;\n",
       "            color:  #000000;\n",
       "            : ;\n",
       "        }    #T_dc8b2ff4_5a49_11ea_8f74_ecf4bb688b84row20_col1 {\n",
       "            background-color:  #e5ffe5;\n",
       "            color:  #000000;\n",
       "            : ;\n",
       "        }    #T_dc8b2ff4_5a49_11ea_8f74_ecf4bb688b84row20_col2 {\n",
       "            background-color:  #e5ffe5;\n",
       "            color:  #000000;\n",
       "            : ;\n",
       "        }    #T_dc8b2ff4_5a49_11ea_8f74_ecf4bb688b84row20_col3 {\n",
       "            background-color:  #e5ffe5;\n",
       "            color:  #000000;\n",
       "            : ;\n",
       "        }    #T_dc8b2ff4_5a49_11ea_8f74_ecf4bb688b84row21_col1 {\n",
       "            background-color:  #e5ffe5;\n",
       "            color:  #000000;\n",
       "            : ;\n",
       "        }    #T_dc8b2ff4_5a49_11ea_8f74_ecf4bb688b84row21_col2 {\n",
       "            background-color:  #e5ffe5;\n",
       "            color:  #000000;\n",
       "            : ;\n",
       "        }    #T_dc8b2ff4_5a49_11ea_8f74_ecf4bb688b84row21_col3 {\n",
       "            background-color:  #e5ffe5;\n",
       "            color:  #000000;\n",
       "            : ;\n",
       "        }    #T_dc8b2ff4_5a49_11ea_8f74_ecf4bb688b84row22_col1 {\n",
       "            background-color:  #e5ffe5;\n",
       "            color:  #000000;\n",
       "            : ;\n",
       "        }    #T_dc8b2ff4_5a49_11ea_8f74_ecf4bb688b84row22_col2 {\n",
       "            background-color:  #e5ffe5;\n",
       "            color:  #000000;\n",
       "            : ;\n",
       "        }    #T_dc8b2ff4_5a49_11ea_8f74_ecf4bb688b84row22_col3 {\n",
       "            background-color:  #e5ffe5;\n",
       "            color:  #000000;\n",
       "            : ;\n",
       "        }    #T_dc8b2ff4_5a49_11ea_8f74_ecf4bb688b84row23_col1 {\n",
       "            background-color:  #e5ffe5;\n",
       "            color:  #000000;\n",
       "            : ;\n",
       "        }    #T_dc8b2ff4_5a49_11ea_8f74_ecf4bb688b84row23_col2 {\n",
       "            background-color:  #e5ffe5;\n",
       "            color:  #000000;\n",
       "            : ;\n",
       "        }    #T_dc8b2ff4_5a49_11ea_8f74_ecf4bb688b84row23_col3 {\n",
       "            background-color:  #e5ffe5;\n",
       "            color:  #000000;\n",
       "            : ;\n",
       "        }    #T_dc8b2ff4_5a49_11ea_8f74_ecf4bb688b84row24_col1 {\n",
       "            background-color:  #e5ffe5;\n",
       "            color:  #000000;\n",
       "            : ;\n",
       "        }    #T_dc8b2ff4_5a49_11ea_8f74_ecf4bb688b84row24_col2 {\n",
       "            background-color:  #e5ffe5;\n",
       "            color:  #000000;\n",
       "            : ;\n",
       "        }    #T_dc8b2ff4_5a49_11ea_8f74_ecf4bb688b84row24_col3 {\n",
       "            background-color:  #e5ffe5;\n",
       "            color:  #000000;\n",
       "            : ;\n",
       "        }    #T_dc8b2ff4_5a49_11ea_8f74_ecf4bb688b84row25_col1 {\n",
       "            background-color:  #e5ffe5;\n",
       "            color:  #000000;\n",
       "            : ;\n",
       "        }    #T_dc8b2ff4_5a49_11ea_8f74_ecf4bb688b84row25_col2 {\n",
       "            background-color:  #e5ffe5;\n",
       "            color:  #000000;\n",
       "            : ;\n",
       "        }    #T_dc8b2ff4_5a49_11ea_8f74_ecf4bb688b84row25_col3 {\n",
       "            background-color:  #e5ffe5;\n",
       "            color:  #000000;\n",
       "            : ;\n",
       "        }    #T_dc8b2ff4_5a49_11ea_8f74_ecf4bb688b84row26_col1 {\n",
       "            background-color:  #e5ffe5;\n",
       "            color:  #000000;\n",
       "            : ;\n",
       "        }    #T_dc8b2ff4_5a49_11ea_8f74_ecf4bb688b84row26_col2 {\n",
       "            background-color:  #e5ffe5;\n",
       "            color:  #000000;\n",
       "            : ;\n",
       "        }    #T_dc8b2ff4_5a49_11ea_8f74_ecf4bb688b84row26_col3 {\n",
       "            background-color:  #e5ffe5;\n",
       "            color:  #000000;\n",
       "            : ;\n",
       "        }    #T_dc8b2ff4_5a49_11ea_8f74_ecf4bb688b84row27_col1 {\n",
       "            background-color:  #e5ffe5;\n",
       "            color:  #000000;\n",
       "            : ;\n",
       "        }    #T_dc8b2ff4_5a49_11ea_8f74_ecf4bb688b84row27_col2 {\n",
       "            background-color:  #e5ffe5;\n",
       "            color:  #000000;\n",
       "            : ;\n",
       "        }    #T_dc8b2ff4_5a49_11ea_8f74_ecf4bb688b84row27_col3 {\n",
       "            background-color:  #e5ffe5;\n",
       "            color:  #000000;\n",
       "            : ;\n",
       "        }    #T_dc8b2ff4_5a49_11ea_8f74_ecf4bb688b84row28_col1 {\n",
       "            background-color:  #e5ffe5;\n",
       "            color:  #000000;\n",
       "            : ;\n",
       "        }    #T_dc8b2ff4_5a49_11ea_8f74_ecf4bb688b84row28_col2 {\n",
       "            background-color:  #e5ffe5;\n",
       "            color:  #000000;\n",
       "            : ;\n",
       "        }    #T_dc8b2ff4_5a49_11ea_8f74_ecf4bb688b84row28_col3 {\n",
       "            background-color:  #e5ffe5;\n",
       "            color:  #000000;\n",
       "            : ;\n",
       "        }    #T_dc8b2ff4_5a49_11ea_8f74_ecf4bb688b84row29_col1 {\n",
       "            background-color:  #e5ffe5;\n",
       "            color:  #000000;\n",
       "            : ;\n",
       "        }    #T_dc8b2ff4_5a49_11ea_8f74_ecf4bb688b84row29_col2 {\n",
       "            background-color:  #e5ffe5;\n",
       "            color:  #000000;\n",
       "            : ;\n",
       "        }    #T_dc8b2ff4_5a49_11ea_8f74_ecf4bb688b84row29_col3 {\n",
       "            background-color:  #e5ffe5;\n",
       "            color:  #000000;\n",
       "            : ;\n",
       "        }    #T_dc8b2ff4_5a49_11ea_8f74_ecf4bb688b84row30_col1 {\n",
       "            background-color:  #e5ffe5;\n",
       "            color:  #000000;\n",
       "            : ;\n",
       "        }    #T_dc8b2ff4_5a49_11ea_8f74_ecf4bb688b84row30_col2 {\n",
       "            background-color:  #e5ffe5;\n",
       "            color:  #000000;\n",
       "            : ;\n",
       "        }    #T_dc8b2ff4_5a49_11ea_8f74_ecf4bb688b84row30_col3 {\n",
       "            background-color:  #e5ffe5;\n",
       "            color:  #000000;\n",
       "            : ;\n",
       "        }    #T_dc8b2ff4_5a49_11ea_8f74_ecf4bb688b84row31_col1 {\n",
       "            background-color:  #e5ffe5;\n",
       "            color:  #000000;\n",
       "            : ;\n",
       "        }    #T_dc8b2ff4_5a49_11ea_8f74_ecf4bb688b84row31_col2 {\n",
       "            background-color:  #e5ffe5;\n",
       "            color:  #000000;\n",
       "            : ;\n",
       "        }    #T_dc8b2ff4_5a49_11ea_8f74_ecf4bb688b84row31_col3 {\n",
       "            background-color:  #e5ffe5;\n",
       "            color:  #000000;\n",
       "            : ;\n",
       "        }    #T_dc8b2ff4_5a49_11ea_8f74_ecf4bb688b84row32_col1 {\n",
       "            background-color:  #e5ffe5;\n",
       "            color:  #000000;\n",
       "            : ;\n",
       "        }    #T_dc8b2ff4_5a49_11ea_8f74_ecf4bb688b84row32_col2 {\n",
       "            background-color:  #e5ffe5;\n",
       "            color:  #000000;\n",
       "            : ;\n",
       "        }    #T_dc8b2ff4_5a49_11ea_8f74_ecf4bb688b84row32_col3 {\n",
       "            background-color:  #e5ffe5;\n",
       "            color:  #000000;\n",
       "            : ;\n",
       "        }    #T_dc8b2ff4_5a49_11ea_8f74_ecf4bb688b84row33_col1 {\n",
       "            background-color:  #e5ffe5;\n",
       "            color:  #000000;\n",
       "            : ;\n",
       "        }    #T_dc8b2ff4_5a49_11ea_8f74_ecf4bb688b84row33_col2 {\n",
       "            background-color:  #e5ffe5;\n",
       "            color:  #000000;\n",
       "            : ;\n",
       "        }    #T_dc8b2ff4_5a49_11ea_8f74_ecf4bb688b84row33_col3 {\n",
       "            background-color:  #e5ffe5;\n",
       "            color:  #000000;\n",
       "            : ;\n",
       "        }</style><table id=\"T_dc8b2ff4_5a49_11ea_8f74_ecf4bb688b84\" ><thead>    <tr>        <th class=\"blank level0\" ></th>        <th class=\"col_heading level0 col0\" >Country</th>        <th class=\"col_heading level0 col1\" >Confirmed</th>        <th class=\"col_heading level0 col2\" >Deaths</th>        <th class=\"col_heading level0 col3\" >Recovered</th>    </tr></thead><tbody>\n",
       "                <tr>\n",
       "                        <th id=\"T_dc8b2ff4_5a49_11ea_8f74_ecf4bb688b84level0_row0\" class=\"row_heading level0 row0\" >0</th>\n",
       "                        <td id=\"T_dc8b2ff4_5a49_11ea_8f74_ecf4bb688b84row0_col0\" class=\"data row0 col0\" >Australia</td>\n",
       "                        <td id=\"T_dc8b2ff4_5a49_11ea_8f74_ecf4bb688b84row0_col1\" class=\"data row0 col1\" >284.000000</td>\n",
       "                        <td id=\"T_dc8b2ff4_5a49_11ea_8f74_ecf4bb688b84row0_col2\" class=\"data row0 col2\" >0.000000</td>\n",
       "                        <td id=\"T_dc8b2ff4_5a49_11ea_8f74_ecf4bb688b84row0_col3\" class=\"data row0 col3\" >70.000000</td>\n",
       "            </tr>\n",
       "            <tr>\n",
       "                        <th id=\"T_dc8b2ff4_5a49_11ea_8f74_ecf4bb688b84level0_row1\" class=\"row_heading level0 row1\" >1</th>\n",
       "                        <td id=\"T_dc8b2ff4_5a49_11ea_8f74_ecf4bb688b84row1_col0\" class=\"data row1 col0\" >Belgium</td>\n",
       "                        <td id=\"T_dc8b2ff4_5a49_11ea_8f74_ecf4bb688b84row1_col1\" class=\"data row1 col1\" >14.000000</td>\n",
       "                        <td id=\"T_dc8b2ff4_5a49_11ea_8f74_ecf4bb688b84row1_col2\" class=\"data row1 col2\" >0.000000</td>\n",
       "                        <td id=\"T_dc8b2ff4_5a49_11ea_8f74_ecf4bb688b84row1_col3\" class=\"data row1 col3\" >1.000000</td>\n",
       "            </tr>\n",
       "            <tr>\n",
       "                        <th id=\"T_dc8b2ff4_5a49_11ea_8f74_ecf4bb688b84level0_row2\" class=\"row_heading level0 row2\" >2</th>\n",
       "                        <td id=\"T_dc8b2ff4_5a49_11ea_8f74_ecf4bb688b84row2_col0\" class=\"data row2 col0\" >Brazil</td>\n",
       "                        <td id=\"T_dc8b2ff4_5a49_11ea_8f74_ecf4bb688b84row2_col1\" class=\"data row2 col1\" >0.000000</td>\n",
       "                        <td id=\"T_dc8b2ff4_5a49_11ea_8f74_ecf4bb688b84row2_col2\" class=\"data row2 col2\" >0.000000</td>\n",
       "                        <td id=\"T_dc8b2ff4_5a49_11ea_8f74_ecf4bb688b84row2_col3\" class=\"data row2 col3\" >0.000000</td>\n",
       "            </tr>\n",
       "            <tr>\n",
       "                        <th id=\"T_dc8b2ff4_5a49_11ea_8f74_ecf4bb688b84level0_row3\" class=\"row_heading level0 row3\" >3</th>\n",
       "                        <td id=\"T_dc8b2ff4_5a49_11ea_8f74_ecf4bb688b84row3_col0\" class=\"data row3 col0\" >Cambodia</td>\n",
       "                        <td id=\"T_dc8b2ff4_5a49_11ea_8f74_ecf4bb688b84row3_col1\" class=\"data row3 col1\" >22.000000</td>\n",
       "                        <td id=\"T_dc8b2ff4_5a49_11ea_8f74_ecf4bb688b84row3_col2\" class=\"data row3 col2\" >0.000000</td>\n",
       "                        <td id=\"T_dc8b2ff4_5a49_11ea_8f74_ecf4bb688b84row3_col3\" class=\"data row3 col3\" >6.000000</td>\n",
       "            </tr>\n",
       "            <tr>\n",
       "                        <th id=\"T_dc8b2ff4_5a49_11ea_8f74_ecf4bb688b84level0_row4\" class=\"row_heading level0 row4\" >4</th>\n",
       "                        <td id=\"T_dc8b2ff4_5a49_11ea_8f74_ecf4bb688b84row4_col0\" class=\"data row4 col0\" >Canada</td>\n",
       "                        <td id=\"T_dc8b2ff4_5a49_11ea_8f74_ecf4bb688b84row4_col1\" class=\"data row4 col1\" >116.000000</td>\n",
       "                        <td id=\"T_dc8b2ff4_5a49_11ea_8f74_ecf4bb688b84row4_col2\" class=\"data row4 col2\" >0.000000</td>\n",
       "                        <td id=\"T_dc8b2ff4_5a49_11ea_8f74_ecf4bb688b84row4_col3\" class=\"data row4 col3\" >6.000000</td>\n",
       "            </tr>\n",
       "            <tr>\n",
       "                        <th id=\"T_dc8b2ff4_5a49_11ea_8f74_ecf4bb688b84level0_row5\" class=\"row_heading level0 row5\" >5</th>\n",
       "                        <td id=\"T_dc8b2ff4_5a49_11ea_8f74_ecf4bb688b84row5_col0\" class=\"data row5 col0\" >China</td>\n",
       "                        <td id=\"T_dc8b2ff4_5a49_11ea_8f74_ecf4bb688b84row5_col1\" class=\"data row5 col1\" >549.000000</td>\n",
       "                        <td id=\"T_dc8b2ff4_5a49_11ea_8f74_ecf4bb688b84row5_col2\" class=\"data row5 col2\" >0.000000</td>\n",
       "                        <td id=\"T_dc8b2ff4_5a49_11ea_8f74_ecf4bb688b84row5_col3\" class=\"data row5 col3\" >0.000000</td>\n",
       "            </tr>\n",
       "            <tr>\n",
       "                        <th id=\"T_dc8b2ff4_5a49_11ea_8f74_ecf4bb688b84level0_row6\" class=\"row_heading level0 row6\" >6</th>\n",
       "                        <td id=\"T_dc8b2ff4_5a49_11ea_8f74_ecf4bb688b84row6_col0\" class=\"data row6 col0\" >Egypt</td>\n",
       "                        <td id=\"T_dc8b2ff4_5a49_11ea_8f74_ecf4bb688b84row6_col1\" class=\"data row6 col1\" >4.000000</td>\n",
       "                        <td id=\"T_dc8b2ff4_5a49_11ea_8f74_ecf4bb688b84row6_col2\" class=\"data row6 col2\" >0.000000</td>\n",
       "                        <td id=\"T_dc8b2ff4_5a49_11ea_8f74_ecf4bb688b84row6_col3\" class=\"data row6 col3\" >0.000000</td>\n",
       "            </tr>\n",
       "            <tr>\n",
       "                        <th id=\"T_dc8b2ff4_5a49_11ea_8f74_ecf4bb688b84level0_row7\" class=\"row_heading level0 row7\" >7</th>\n",
       "                        <td id=\"T_dc8b2ff4_5a49_11ea_8f74_ecf4bb688b84row7_col0\" class=\"data row7 col0\" >Finland</td>\n",
       "                        <td id=\"T_dc8b2ff4_5a49_11ea_8f74_ecf4bb688b84row7_col1\" class=\"data row7 col1\" >20.000000</td>\n",
       "                        <td id=\"T_dc8b2ff4_5a49_11ea_8f74_ecf4bb688b84row7_col2\" class=\"data row7 col2\" >0.000000</td>\n",
       "                        <td id=\"T_dc8b2ff4_5a49_11ea_8f74_ecf4bb688b84row7_col3\" class=\"data row7 col3\" >7.000000</td>\n",
       "            </tr>\n",
       "            <tr>\n",
       "                        <th id=\"T_dc8b2ff4_5a49_11ea_8f74_ecf4bb688b84level0_row8\" class=\"row_heading level0 row8\" >8</th>\n",
       "                        <td id=\"T_dc8b2ff4_5a49_11ea_8f74_ecf4bb688b84row8_col0\" class=\"data row8 col0\" >France</td>\n",
       "                        <td id=\"T_dc8b2ff4_5a49_11ea_8f74_ecf4bb688b84row8_col1\" class=\"data row8 col1\" >186.000000</td>\n",
       "                        <td id=\"T_dc8b2ff4_5a49_11ea_8f74_ecf4bb688b84row8_col2\" class=\"data row8 col2\" >3.000000</td>\n",
       "                        <td id=\"T_dc8b2ff4_5a49_11ea_8f74_ecf4bb688b84row8_col3\" class=\"data row8 col3\" >18.000000</td>\n",
       "            </tr>\n",
       "            <tr>\n",
       "                        <th id=\"T_dc8b2ff4_5a49_11ea_8f74_ecf4bb688b84level0_row9\" class=\"row_heading level0 row9\" >9</th>\n",
       "                        <td id=\"T_dc8b2ff4_5a49_11ea_8f74_ecf4bb688b84row9_col0\" class=\"data row9 col0\" >Germany</td>\n",
       "                        <td id=\"T_dc8b2ff4_5a49_11ea_8f74_ecf4bb688b84row9_col1\" class=\"data row9 col1\" >252.000000</td>\n",
       "                        <td id=\"T_dc8b2ff4_5a49_11ea_8f74_ecf4bb688b84row9_col2\" class=\"data row9 col2\" >0.000000</td>\n",
       "                        <td id=\"T_dc8b2ff4_5a49_11ea_8f74_ecf4bb688b84row9_col3\" class=\"data row9 col3\" >5.000000</td>\n",
       "            </tr>\n",
       "            <tr>\n",
       "                        <th id=\"T_dc8b2ff4_5a49_11ea_8f74_ecf4bb688b84level0_row10\" class=\"row_heading level0 row10\" >10</th>\n",
       "                        <td id=\"T_dc8b2ff4_5a49_11ea_8f74_ecf4bb688b84row10_col0\" class=\"data row10 col0\" >Hong Kong</td>\n",
       "                        <td id=\"T_dc8b2ff4_5a49_11ea_8f74_ecf4bb688b84row10_col1\" class=\"data row10 col1\" >681.000000</td>\n",
       "                        <td id=\"T_dc8b2ff4_5a49_11ea_8f74_ecf4bb688b84row10_col2\" class=\"data row10 col2\" >14.000000</td>\n",
       "                        <td id=\"T_dc8b2ff4_5a49_11ea_8f74_ecf4bb688b84row10_col3\" class=\"data row10 col3\" >8.000000</td>\n",
       "            </tr>\n",
       "            <tr>\n",
       "                        <th id=\"T_dc8b2ff4_5a49_11ea_8f74_ecf4bb688b84level0_row11\" class=\"row_heading level0 row11\" >11</th>\n",
       "                        <td id=\"T_dc8b2ff4_5a49_11ea_8f74_ecf4bb688b84row11_col0\" class=\"data row11 col0\" >India</td>\n",
       "                        <td id=\"T_dc8b2ff4_5a49_11ea_8f74_ecf4bb688b84row11_col1\" class=\"data row11 col1\" >50.000000</td>\n",
       "                        <td id=\"T_dc8b2ff4_5a49_11ea_8f74_ecf4bb688b84row11_col2\" class=\"data row11 col2\" >0.000000</td>\n",
       "                        <td id=\"T_dc8b2ff4_5a49_11ea_8f74_ecf4bb688b84row11_col3\" class=\"data row11 col3\" >6.000000</td>\n",
       "            </tr>\n",
       "            <tr>\n",
       "                        <th id=\"T_dc8b2ff4_5a49_11ea_8f74_ecf4bb688b84level0_row12\" class=\"row_heading level0 row12\" >12</th>\n",
       "                        <td id=\"T_dc8b2ff4_5a49_11ea_8f74_ecf4bb688b84row12_col0\" class=\"data row12 col0\" >Italy</td>\n",
       "                        <td id=\"T_dc8b2ff4_5a49_11ea_8f74_ecf4bb688b84row12_col1\" class=\"data row12 col1\" >49.000000</td>\n",
       "                        <td id=\"T_dc8b2ff4_5a49_11ea_8f74_ecf4bb688b84row12_col2\" class=\"data row12 col2\" >0.000000</td>\n",
       "                        <td id=\"T_dc8b2ff4_5a49_11ea_8f74_ecf4bb688b84row12_col3\" class=\"data row12 col3\" >0.000000</td>\n",
       "            </tr>\n",
       "            <tr>\n",
       "                        <th id=\"T_dc8b2ff4_5a49_11ea_8f74_ecf4bb688b84level0_row13\" class=\"row_heading level0 row13\" >13</th>\n",
       "                        <td id=\"T_dc8b2ff4_5a49_11ea_8f74_ecf4bb688b84row13_col0\" class=\"data row13 col0\" >Ivory Coast</td>\n",
       "                        <td id=\"T_dc8b2ff4_5a49_11ea_8f74_ecf4bb688b84row13_col1\" class=\"data row13 col1\" >0.000000</td>\n",
       "                        <td id=\"T_dc8b2ff4_5a49_11ea_8f74_ecf4bb688b84row13_col2\" class=\"data row13 col2\" >0.000000</td>\n",
       "                        <td id=\"T_dc8b2ff4_5a49_11ea_8f74_ecf4bb688b84row13_col3\" class=\"data row13 col3\" >0.000000</td>\n",
       "            </tr>\n",
       "            <tr>\n",
       "                        <th id=\"T_dc8b2ff4_5a49_11ea_8f74_ecf4bb688b84level0_row14\" class=\"row_heading level0 row14\" >14</th>\n",
       "                        <td id=\"T_dc8b2ff4_5a49_11ea_8f74_ecf4bb688b84row14_col0\" class=\"data row14 col0\" >Japan</td>\n",
       "                        <td id=\"T_dc8b2ff4_5a49_11ea_8f74_ecf4bb688b84row14_col1\" class=\"data row14 col1\" >591.000000</td>\n",
       "                        <td id=\"T_dc8b2ff4_5a49_11ea_8f74_ecf4bb688b84row14_col2\" class=\"data row14 col2\" >5.000000</td>\n",
       "                        <td id=\"T_dc8b2ff4_5a49_11ea_8f74_ecf4bb688b84row14_col3\" class=\"data row14 col3\" >91.000000</td>\n",
       "            </tr>\n",
       "            <tr>\n",
       "                        <th id=\"T_dc8b2ff4_5a49_11ea_8f74_ecf4bb688b84level0_row15\" class=\"row_heading level0 row15\" >15</th>\n",
       "                        <td id=\"T_dc8b2ff4_5a49_11ea_8f74_ecf4bb688b84row15_col0\" class=\"data row15 col0\" >Macau</td>\n",
       "                        <td id=\"T_dc8b2ff4_5a49_11ea_8f74_ecf4bb688b84row15_col1\" class=\"data row15 col1\" >209.000000</td>\n",
       "                        <td id=\"T_dc8b2ff4_5a49_11ea_8f74_ecf4bb688b84row15_col2\" class=\"data row15 col2\" >0.000000</td>\n",
       "                        <td id=\"T_dc8b2ff4_5a49_11ea_8f74_ecf4bb688b84row15_col3\" class=\"data row15 col3\" >27.000000</td>\n",
       "            </tr>\n",
       "            <tr>\n",
       "                        <th id=\"T_dc8b2ff4_5a49_11ea_8f74_ecf4bb688b84level0_row16\" class=\"row_heading level0 row16\" >16</th>\n",
       "                        <td id=\"T_dc8b2ff4_5a49_11ea_8f74_ecf4bb688b84row16_col0\" class=\"data row16 col0\" >Mainland China</td>\n",
       "                        <td id=\"T_dc8b2ff4_5a49_11ea_8f74_ecf4bb688b84row16_col1\" class=\"data row16 col1\" >772951.000000</td>\n",
       "                        <td id=\"T_dc8b2ff4_5a49_11ea_8f74_ecf4bb688b84row16_col2\" class=\"data row16 col2\" >17908.000000</td>\n",
       "                        <td id=\"T_dc8b2ff4_5a49_11ea_8f74_ecf4bb688b84row16_col3\" class=\"data row16 col3\" >75440.000000</td>\n",
       "            </tr>\n",
       "            <tr>\n",
       "                        <th id=\"T_dc8b2ff4_5a49_11ea_8f74_ecf4bb688b84level0_row17\" class=\"row_heading level0 row17\" >17</th>\n",
       "                        <td id=\"T_dc8b2ff4_5a49_11ea_8f74_ecf4bb688b84row17_col0\" class=\"data row17 col0\" >Malaysia</td>\n",
       "                        <td id=\"T_dc8b2ff4_5a49_11ea_8f74_ecf4bb688b84row17_col1\" class=\"data row17 col1\" >303.000000</td>\n",
       "                        <td id=\"T_dc8b2ff4_5a49_11ea_8f74_ecf4bb688b84row17_col2\" class=\"data row17 col2\" >0.000000</td>\n",
       "                        <td id=\"T_dc8b2ff4_5a49_11ea_8f74_ecf4bb688b84row17_col3\" class=\"data row17 col3\" >37.000000</td>\n",
       "            </tr>\n",
       "            <tr>\n",
       "                        <th id=\"T_dc8b2ff4_5a49_11ea_8f74_ecf4bb688b84level0_row18\" class=\"row_heading level0 row18\" >18</th>\n",
       "                        <td id=\"T_dc8b2ff4_5a49_11ea_8f74_ecf4bb688b84row18_col0\" class=\"data row18 col0\" >Mexico</td>\n",
       "                        <td id=\"T_dc8b2ff4_5a49_11ea_8f74_ecf4bb688b84row18_col1\" class=\"data row18 col1\" >0.000000</td>\n",
       "                        <td id=\"T_dc8b2ff4_5a49_11ea_8f74_ecf4bb688b84row18_col2\" class=\"data row18 col2\" >0.000000</td>\n",
       "                        <td id=\"T_dc8b2ff4_5a49_11ea_8f74_ecf4bb688b84row18_col3\" class=\"data row18 col3\" >0.000000</td>\n",
       "            </tr>\n",
       "            <tr>\n",
       "                        <th id=\"T_dc8b2ff4_5a49_11ea_8f74_ecf4bb688b84level0_row19\" class=\"row_heading level0 row19\" >19</th>\n",
       "                        <td id=\"T_dc8b2ff4_5a49_11ea_8f74_ecf4bb688b84row19_col0\" class=\"data row19 col0\" >Nepal</td>\n",
       "                        <td id=\"T_dc8b2ff4_5a49_11ea_8f74_ecf4bb688b84row19_col1\" class=\"data row19 col1\" >24.000000</td>\n",
       "                        <td id=\"T_dc8b2ff4_5a49_11ea_8f74_ecf4bb688b84row19_col2\" class=\"data row19 col2\" >0.000000</td>\n",
       "                        <td id=\"T_dc8b2ff4_5a49_11ea_8f74_ecf4bb688b84row19_col3\" class=\"data row19 col3\" >6.000000</td>\n",
       "            </tr>\n",
       "            <tr>\n",
       "                        <th id=\"T_dc8b2ff4_5a49_11ea_8f74_ecf4bb688b84level0_row20\" class=\"row_heading level0 row20\" >20</th>\n",
       "                        <td id=\"T_dc8b2ff4_5a49_11ea_8f74_ecf4bb688b84row20_col0\" class=\"data row20 col0\" >Others</td>\n",
       "                        <td id=\"T_dc8b2ff4_5a49_11ea_8f74_ecf4bb688b84row20_col1\" class=\"data row20 col1\" >2161.000000</td>\n",
       "                        <td id=\"T_dc8b2ff4_5a49_11ea_8f74_ecf4bb688b84row20_col2\" class=\"data row20 col2\" >0.000000</td>\n",
       "                        <td id=\"T_dc8b2ff4_5a49_11ea_8f74_ecf4bb688b84row20_col3\" class=\"data row20 col3\" >0.000000</td>\n",
       "            </tr>\n",
       "            <tr>\n",
       "                        <th id=\"T_dc8b2ff4_5a49_11ea_8f74_ecf4bb688b84level0_row21\" class=\"row_heading level0 row21\" >21</th>\n",
       "                        <td id=\"T_dc8b2ff4_5a49_11ea_8f74_ecf4bb688b84row21_col0\" class=\"data row21 col0\" >Philippines</td>\n",
       "                        <td id=\"T_dc8b2ff4_5a49_11ea_8f74_ecf4bb688b84row21_col1\" class=\"data row21 col1\" >47.000000</td>\n",
       "                        <td id=\"T_dc8b2ff4_5a49_11ea_8f74_ecf4bb688b84row21_col2\" class=\"data row21 col2\" >17.000000</td>\n",
       "                        <td id=\"T_dc8b2ff4_5a49_11ea_8f74_ecf4bb688b84row21_col3\" class=\"data row21 col3\" >6.000000</td>\n",
       "            </tr>\n",
       "            <tr>\n",
       "                        <th id=\"T_dc8b2ff4_5a49_11ea_8f74_ecf4bb688b84level0_row22\" class=\"row_heading level0 row22\" >22</th>\n",
       "                        <td id=\"T_dc8b2ff4_5a49_11ea_8f74_ecf4bb688b84row22_col0\" class=\"data row22 col0\" >Russia</td>\n",
       "                        <td id=\"T_dc8b2ff4_5a49_11ea_8f74_ecf4bb688b84row22_col1\" class=\"data row22 col1\" >36.000000</td>\n",
       "                        <td id=\"T_dc8b2ff4_5a49_11ea_8f74_ecf4bb688b84row22_col2\" class=\"data row22 col2\" >0.000000</td>\n",
       "                        <td id=\"T_dc8b2ff4_5a49_11ea_8f74_ecf4bb688b84row22_col3\" class=\"data row22 col3\" >12.000000</td>\n",
       "            </tr>\n",
       "            <tr>\n",
       "                        <th id=\"T_dc8b2ff4_5a49_11ea_8f74_ecf4bb688b84level0_row23\" class=\"row_heading level0 row23\" >23</th>\n",
       "                        <td id=\"T_dc8b2ff4_5a49_11ea_8f74_ecf4bb688b84row23_col0\" class=\"data row23 col0\" >Singapore</td>\n",
       "                        <td id=\"T_dc8b2ff4_5a49_11ea_8f74_ecf4bb688b84row23_col1\" class=\"data row23 col1\" >797.000000</td>\n",
       "                        <td id=\"T_dc8b2ff4_5a49_11ea_8f74_ecf4bb688b84row23_col2\" class=\"data row23 col2\" >0.000000</td>\n",
       "                        <td id=\"T_dc8b2ff4_5a49_11ea_8f74_ecf4bb688b84row23_col3\" class=\"data row23 col3\" >122.000000</td>\n",
       "            </tr>\n",
       "            <tr>\n",
       "                        <th id=\"T_dc8b2ff4_5a49_11ea_8f74_ecf4bb688b84level0_row24\" class=\"row_heading level0 row24\" >24</th>\n",
       "                        <td id=\"T_dc8b2ff4_5a49_11ea_8f74_ecf4bb688b84row24_col0\" class=\"data row24 col0\" >South Korea</td>\n",
       "                        <td id=\"T_dc8b2ff4_5a49_11ea_8f74_ecf4bb688b84row24_col1\" class=\"data row24 col1\" >444.000000</td>\n",
       "                        <td id=\"T_dc8b2ff4_5a49_11ea_8f74_ecf4bb688b84row24_col2\" class=\"data row24 col2\" >0.000000</td>\n",
       "                        <td id=\"T_dc8b2ff4_5a49_11ea_8f74_ecf4bb688b84row24_col3\" class=\"data row24 col3\" >63.000000</td>\n",
       "            </tr>\n",
       "            <tr>\n",
       "                        <th id=\"T_dc8b2ff4_5a49_11ea_8f74_ecf4bb688b84level0_row25\" class=\"row_heading level0 row25\" >25</th>\n",
       "                        <td id=\"T_dc8b2ff4_5a49_11ea_8f74_ecf4bb688b84row25_col0\" class=\"data row25 col0\" >Spain</td>\n",
       "                        <td id=\"T_dc8b2ff4_5a49_11ea_8f74_ecf4bb688b84row25_col1\" class=\"data row25 col1\" >27.000000</td>\n",
       "                        <td id=\"T_dc8b2ff4_5a49_11ea_8f74_ecf4bb688b84row25_col2\" class=\"data row25 col2\" >0.000000</td>\n",
       "                        <td id=\"T_dc8b2ff4_5a49_11ea_8f74_ecf4bb688b84row25_col3\" class=\"data row25 col3\" >6.000000</td>\n",
       "            </tr>\n",
       "            <tr>\n",
       "                        <th id=\"T_dc8b2ff4_5a49_11ea_8f74_ecf4bb688b84level0_row26\" class=\"row_heading level0 row26\" >26</th>\n",
       "                        <td id=\"T_dc8b2ff4_5a49_11ea_8f74_ecf4bb688b84row26_col0\" class=\"data row26 col0\" >Sri Lanka</td>\n",
       "                        <td id=\"T_dc8b2ff4_5a49_11ea_8f74_ecf4bb688b84row26_col1\" class=\"data row26 col1\" >22.000000</td>\n",
       "                        <td id=\"T_dc8b2ff4_5a49_11ea_8f74_ecf4bb688b84row26_col2\" class=\"data row26 col2\" >0.000000</td>\n",
       "                        <td id=\"T_dc8b2ff4_5a49_11ea_8f74_ecf4bb688b84row26_col3\" class=\"data row26 col3\" >10.000000</td>\n",
       "            </tr>\n",
       "            <tr>\n",
       "                        <th id=\"T_dc8b2ff4_5a49_11ea_8f74_ecf4bb688b84level0_row27\" class=\"row_heading level0 row27\" >27</th>\n",
       "                        <td id=\"T_dc8b2ff4_5a49_11ea_8f74_ecf4bb688b84row27_col0\" class=\"data row27 col0\" >Sweden</td>\n",
       "                        <td id=\"T_dc8b2ff4_5a49_11ea_8f74_ecf4bb688b84row27_col1\" class=\"data row27 col1\" >18.000000</td>\n",
       "                        <td id=\"T_dc8b2ff4_5a49_11ea_8f74_ecf4bb688b84row27_col2\" class=\"data row27 col2\" >0.000000</td>\n",
       "                        <td id=\"T_dc8b2ff4_5a49_11ea_8f74_ecf4bb688b84row27_col3\" class=\"data row27 col3\" >0.000000</td>\n",
       "            </tr>\n",
       "            <tr>\n",
       "                        <th id=\"T_dc8b2ff4_5a49_11ea_8f74_ecf4bb688b84level0_row28\" class=\"row_heading level0 row28\" >28</th>\n",
       "                        <td id=\"T_dc8b2ff4_5a49_11ea_8f74_ecf4bb688b84row28_col0\" class=\"data row28 col0\" >Taiwan</td>\n",
       "                        <td id=\"T_dc8b2ff4_5a49_11ea_8f74_ecf4bb688b84row28_col1\" class=\"data row28 col1\" >320.000000</td>\n",
       "                        <td id=\"T_dc8b2ff4_5a49_11ea_8f74_ecf4bb688b84row28_col2\" class=\"data row28 col2\" >2.000000</td>\n",
       "                        <td id=\"T_dc8b2ff4_5a49_11ea_8f74_ecf4bb688b84row28_col3\" class=\"data row28 col3\" >16.000000</td>\n",
       "            </tr>\n",
       "            <tr>\n",
       "                        <th id=\"T_dc8b2ff4_5a49_11ea_8f74_ecf4bb688b84level0_row29\" class=\"row_heading level0 row29\" >29</th>\n",
       "                        <td id=\"T_dc8b2ff4_5a49_11ea_8f74_ecf4bb688b84row29_col0\" class=\"data row29 col0\" >Thailand</td>\n",
       "                        <td id=\"T_dc8b2ff4_5a49_11ea_8f74_ecf4bb688b84row29_col1\" class=\"data row29 col1\" >581.000000</td>\n",
       "                        <td id=\"T_dc8b2ff4_5a49_11ea_8f74_ecf4bb688b84row29_col2\" class=\"data row29 col2\" >0.000000</td>\n",
       "                        <td id=\"T_dc8b2ff4_5a49_11ea_8f74_ecf4bb688b84row29_col3\" class=\"data row29 col3\" >176.000000</td>\n",
       "            </tr>\n",
       "            <tr>\n",
       "                        <th id=\"T_dc8b2ff4_5a49_11ea_8f74_ecf4bb688b84level0_row30\" class=\"row_heading level0 row30\" >30</th>\n",
       "                        <td id=\"T_dc8b2ff4_5a49_11ea_8f74_ecf4bb688b84row30_col0\" class=\"data row30 col0\" >UK</td>\n",
       "                        <td id=\"T_dc8b2ff4_5a49_11ea_8f74_ecf4bb688b84row30_col1\" class=\"data row30 col1\" >93.000000</td>\n",
       "                        <td id=\"T_dc8b2ff4_5a49_11ea_8f74_ecf4bb688b84row30_col2\" class=\"data row30 col2\" >0.000000</td>\n",
       "                        <td id=\"T_dc8b2ff4_5a49_11ea_8f74_ecf4bb688b84row30_col3\" class=\"data row30 col3\" >20.000000</td>\n",
       "            </tr>\n",
       "            <tr>\n",
       "                        <th id=\"T_dc8b2ff4_5a49_11ea_8f74_ecf4bb688b84level0_row31\" class=\"row_heading level0 row31\" >31</th>\n",
       "                        <td id=\"T_dc8b2ff4_5a49_11ea_8f74_ecf4bb688b84row31_col0\" class=\"data row31 col0\" >US</td>\n",
       "                        <td id=\"T_dc8b2ff4_5a49_11ea_8f74_ecf4bb688b84row31_col1\" class=\"data row31 col1\" >250.000000</td>\n",
       "                        <td id=\"T_dc8b2ff4_5a49_11ea_8f74_ecf4bb688b84row31_col2\" class=\"data row31 col2\" >0.000000</td>\n",
       "                        <td id=\"T_dc8b2ff4_5a49_11ea_8f74_ecf4bb688b84row31_col3\" class=\"data row31 col3\" >27.000000</td>\n",
       "            </tr>\n",
       "            <tr>\n",
       "                        <th id=\"T_dc8b2ff4_5a49_11ea_8f74_ecf4bb688b84level0_row32\" class=\"row_heading level0 row32\" >32</th>\n",
       "                        <td id=\"T_dc8b2ff4_5a49_11ea_8f74_ecf4bb688b84row32_col0\" class=\"data row32 col0\" >United Arab Emirates</td>\n",
       "                        <td id=\"T_dc8b2ff4_5a49_11ea_8f74_ecf4bb688b84row32_col1\" class=\"data row32 col1\" >126.000000</td>\n",
       "                        <td id=\"T_dc8b2ff4_5a49_11ea_8f74_ecf4bb688b84row32_col2\" class=\"data row32 col2\" >0.000000</td>\n",
       "                        <td id=\"T_dc8b2ff4_5a49_11ea_8f74_ecf4bb688b84row32_col3\" class=\"data row32 col3\" >15.000000</td>\n",
       "            </tr>\n",
       "            <tr>\n",
       "                        <th id=\"T_dc8b2ff4_5a49_11ea_8f74_ecf4bb688b84level0_row33\" class=\"row_heading level0 row33\" >33</th>\n",
       "                        <td id=\"T_dc8b2ff4_5a49_11ea_8f74_ecf4bb688b84row33_col0\" class=\"data row33 col0\" >Vietnam</td>\n",
       "                        <td id=\"T_dc8b2ff4_5a49_11ea_8f74_ecf4bb688b84row33_col1\" class=\"data row33 col1\" >225.000000</td>\n",
       "                        <td id=\"T_dc8b2ff4_5a49_11ea_8f74_ecf4bb688b84row33_col2\" class=\"data row33 col2\" >0.000000</td>\n",
       "                        <td id=\"T_dc8b2ff4_5a49_11ea_8f74_ecf4bb688b84row33_col3\" class=\"data row33 col3\" >57.000000</td>\n",
       "            </tr>\n",
       "    </tbody></table>"
      ],
      "text/plain": [
       "<pandas.io.formats.style.Styler at 0x19788437208>"
      ]
     },
     "execution_count": 76,
     "metadata": {},
     "output_type": "execute_result"
    }
   ],
   "source": [
    "print('Country wise Confirmed cases,Death cases and Recovered Cases')\n",
    "temp = data.groupby('Country')[['Confirmed','Deaths','Recovered']].sum().reset_index()\n",
    "\n",
    "cm = sns.light_palette('green',as_cmap=True)\n",
    "\n",
    "# Setting CSS Properties for Table Header Elements in Dataframe\n",
    "th_props = [\n",
    "    ('font-size','11px'),\n",
    "    ('text-align','center'),\n",
    "    ('font-weight','bold'),\n",
    "    ('color','#6d6d6d'),\n",
    "    ('background-color','#f7f7f9')\n",
    "]\n",
    "\n",
    "# Setting CSS Properties for Table Data Elements in Dataframe\n",
    "td_props = [\n",
    "    ('font-size','11px'),\n",
    "    ('color','black')\n",
    "]\n",
    "\n",
    "# Set Table style\n",
    "styles = [\n",
    "    dict(selector='th', props = th_props),\n",
    "    dict(selector='td', props = td_props)\n",
    "]\n",
    "\n",
    "(temp.style\n",
    " .background_gradient(cmap=cm, subset=['Confirmed','Deaths','Recovered'])\n",
    " .highlight_max(subset=['Confirmed','Deaths','Recovered'])\n",
    " .set_table_styles(styles))"
   ]
  },
  {
   "cell_type": "markdown",
   "metadata": {},
   "source": [
    "### In Map"
   ]
  },
  {
   "cell_type": "code",
   "execution_count": 77,
   "metadata": {
    "ExecuteTime": {
     "end_time": "2020-02-28T16:46:26.923233Z",
     "start_time": "2020-02-28T16:46:26.758311Z"
    }
   },
   "outputs": [
    {
     "data": {
      "application/vnd.plotly.v1+json": {
       "config": {
        "plotlyServerURL": "https://plot.ly"
       },
       "data": [
        {
         "hoverinfo": "text",
         "lat": [
          -25,
          50.641949,
          -10.861639,
          12.4425,
          56.511018,
          33,
          26.317301,
          64.524025,
          46.623974,
          51.090614,
          22.278333,
          27.0858,
          43.524673,
          7.6869,
          36.652302,
          22.194401,
          39.916668,
          2.5961,
          23.93034,
          28.1553,
          15.8564,
          65.067703,
          1.3681,
          36.635601,
          40.93,
          7.3434,
          62.835373,
          23.534,
          15.0086,
          54,
          39.390897,
          23.341,
          16.7603
         ],
         "lon": [
          134,
          4.659539,
          -53.104038,
          104.733704,
          -105.908203,
          100,
          29.0548,
          26.287458,
          2.462247,
          10.382207,
          114.158889,
          80.314003,
          12.1605,
          -5.6958,
          138.192093,
          113.536499,
          116.383331,
          112.883904,
          -102.510521,
          84.196503,
          121.131104,
          116.8564,
          103.799004,
          127.500603,
          -3.4,
          80.719398,
          16.742456,
          120.559402,
          100.955704,
          -2,
          -99.066067,
          52.9063,
          106.656601
         ],
         "marker": {
          "color": "rgb(255,0,0)",
          "opacity": 0.7,
          "size": 17
         },
         "mode": "markers",
         "text": [
          "Australia",
          "Belgium",
          "Brazil",
          "Cambodia",
          "Canada",
          "China",
          "Egypt",
          "Finland",
          "France",
          "Germany",
          "Hong Kong",
          "India",
          "Italy",
          "Ivory Coast",
          "Japan",
          "Macau",
          "Mainland China",
          "Malaysia",
          "Mexico",
          "Nepal",
          "Philippines",
          "Russia",
          "Singapore",
          "South Korea",
          "Spain",
          "Sri Lanka",
          "Sweden",
          "Taiwan",
          "Thailand",
          "UK",
          "US",
          "United Arab Emirates",
          "Vietnam"
         ],
         "type": "scattergeo"
        },
        {
         "hoverinfo": "none",
         "lat": [
          -25,
          50.641949,
          -10.861639,
          12.4425,
          56.511018,
          33,
          26.317301,
          64.524025,
          46.623974,
          51.090614,
          22.278333,
          27.0858,
          43.524673,
          7.6869,
          36.652302,
          22.194401,
          39.916668,
          2.5961,
          23.93034,
          28.1553,
          15.8564,
          65.067703,
          1.3681,
          36.635601,
          40.93,
          7.3434,
          62.835373,
          23.534,
          15.0086,
          54,
          39.390897,
          23.341,
          16.7603
         ],
         "lon": [
          134,
          4.659539,
          -53.104038,
          104.733704,
          -105.908203,
          100,
          29.0548,
          26.287458,
          2.462247,
          10.382207,
          114.158889,
          80.314003,
          12.1605,
          -5.6958,
          138.192093,
          113.536499,
          116.383331,
          112.883904,
          -102.510521,
          84.196503,
          121.131104,
          116.8564,
          103.799004,
          127.500603,
          -3.4,
          80.719398,
          16.742456,
          120.559402,
          100.955704,
          -2,
          -99.066067,
          52.9063,
          106.656601
         ],
         "marker": {
          "color": "rgb(242, 177, 172)",
          "opacity": 0.7,
          "size": 8
         },
         "mode": "markers",
         "type": "scattergeo"
        }
       ],
       "layout": {
        "autosize": true,
        "font": {
         "color": "black",
         "family": "Arial, Balto, Courier New, Droid Sans"
        },
        "geo": {
         "coastlinecolor": "black",
         "countrycolor": "black",
         "landcolor": "rgb(229, 229, 229)",
         "projection": {
          "type": "natural earth"
         },
         "showcoastlines": true,
         "showcountries": true,
         "showframe": false
        },
        "hovermode": "closest",
        "showlegend": false,
        "template": {
         "data": {
          "bar": [
           {
            "error_x": {
             "color": "#2a3f5f"
            },
            "error_y": {
             "color": "#2a3f5f"
            },
            "marker": {
             "line": {
              "color": "#E5ECF6",
              "width": 0.5
             }
            },
            "type": "bar"
           }
          ],
          "barpolar": [
           {
            "marker": {
             "line": {
              "color": "#E5ECF6",
              "width": 0.5
             }
            },
            "type": "barpolar"
           }
          ],
          "carpet": [
           {
            "aaxis": {
             "endlinecolor": "#2a3f5f",
             "gridcolor": "white",
             "linecolor": "white",
             "minorgridcolor": "white",
             "startlinecolor": "#2a3f5f"
            },
            "baxis": {
             "endlinecolor": "#2a3f5f",
             "gridcolor": "white",
             "linecolor": "white",
             "minorgridcolor": "white",
             "startlinecolor": "#2a3f5f"
            },
            "type": "carpet"
           }
          ],
          "choropleth": [
           {
            "colorbar": {
             "outlinewidth": 0,
             "ticks": ""
            },
            "type": "choropleth"
           }
          ],
          "contour": [
           {
            "colorbar": {
             "outlinewidth": 0,
             "ticks": ""
            },
            "colorscale": [
             [
              0,
              "#0d0887"
             ],
             [
              0.1111111111111111,
              "#46039f"
             ],
             [
              0.2222222222222222,
              "#7201a8"
             ],
             [
              0.3333333333333333,
              "#9c179e"
             ],
             [
              0.4444444444444444,
              "#bd3786"
             ],
             [
              0.5555555555555556,
              "#d8576b"
             ],
             [
              0.6666666666666666,
              "#ed7953"
             ],
             [
              0.7777777777777778,
              "#fb9f3a"
             ],
             [
              0.8888888888888888,
              "#fdca26"
             ],
             [
              1,
              "#f0f921"
             ]
            ],
            "type": "contour"
           }
          ],
          "contourcarpet": [
           {
            "colorbar": {
             "outlinewidth": 0,
             "ticks": ""
            },
            "type": "contourcarpet"
           }
          ],
          "heatmap": [
           {
            "colorbar": {
             "outlinewidth": 0,
             "ticks": ""
            },
            "colorscale": [
             [
              0,
              "#0d0887"
             ],
             [
              0.1111111111111111,
              "#46039f"
             ],
             [
              0.2222222222222222,
              "#7201a8"
             ],
             [
              0.3333333333333333,
              "#9c179e"
             ],
             [
              0.4444444444444444,
              "#bd3786"
             ],
             [
              0.5555555555555556,
              "#d8576b"
             ],
             [
              0.6666666666666666,
              "#ed7953"
             ],
             [
              0.7777777777777778,
              "#fb9f3a"
             ],
             [
              0.8888888888888888,
              "#fdca26"
             ],
             [
              1,
              "#f0f921"
             ]
            ],
            "type": "heatmap"
           }
          ],
          "heatmapgl": [
           {
            "colorbar": {
             "outlinewidth": 0,
             "ticks": ""
            },
            "colorscale": [
             [
              0,
              "#0d0887"
             ],
             [
              0.1111111111111111,
              "#46039f"
             ],
             [
              0.2222222222222222,
              "#7201a8"
             ],
             [
              0.3333333333333333,
              "#9c179e"
             ],
             [
              0.4444444444444444,
              "#bd3786"
             ],
             [
              0.5555555555555556,
              "#d8576b"
             ],
             [
              0.6666666666666666,
              "#ed7953"
             ],
             [
              0.7777777777777778,
              "#fb9f3a"
             ],
             [
              0.8888888888888888,
              "#fdca26"
             ],
             [
              1,
              "#f0f921"
             ]
            ],
            "type": "heatmapgl"
           }
          ],
          "histogram": [
           {
            "marker": {
             "colorbar": {
              "outlinewidth": 0,
              "ticks": ""
             }
            },
            "type": "histogram"
           }
          ],
          "histogram2d": [
           {
            "colorbar": {
             "outlinewidth": 0,
             "ticks": ""
            },
            "colorscale": [
             [
              0,
              "#0d0887"
             ],
             [
              0.1111111111111111,
              "#46039f"
             ],
             [
              0.2222222222222222,
              "#7201a8"
             ],
             [
              0.3333333333333333,
              "#9c179e"
             ],
             [
              0.4444444444444444,
              "#bd3786"
             ],
             [
              0.5555555555555556,
              "#d8576b"
             ],
             [
              0.6666666666666666,
              "#ed7953"
             ],
             [
              0.7777777777777778,
              "#fb9f3a"
             ],
             [
              0.8888888888888888,
              "#fdca26"
             ],
             [
              1,
              "#f0f921"
             ]
            ],
            "type": "histogram2d"
           }
          ],
          "histogram2dcontour": [
           {
            "colorbar": {
             "outlinewidth": 0,
             "ticks": ""
            },
            "colorscale": [
             [
              0,
              "#0d0887"
             ],
             [
              0.1111111111111111,
              "#46039f"
             ],
             [
              0.2222222222222222,
              "#7201a8"
             ],
             [
              0.3333333333333333,
              "#9c179e"
             ],
             [
              0.4444444444444444,
              "#bd3786"
             ],
             [
              0.5555555555555556,
              "#d8576b"
             ],
             [
              0.6666666666666666,
              "#ed7953"
             ],
             [
              0.7777777777777778,
              "#fb9f3a"
             ],
             [
              0.8888888888888888,
              "#fdca26"
             ],
             [
              1,
              "#f0f921"
             ]
            ],
            "type": "histogram2dcontour"
           }
          ],
          "mesh3d": [
           {
            "colorbar": {
             "outlinewidth": 0,
             "ticks": ""
            },
            "type": "mesh3d"
           }
          ],
          "parcoords": [
           {
            "line": {
             "colorbar": {
              "outlinewidth": 0,
              "ticks": ""
             }
            },
            "type": "parcoords"
           }
          ],
          "pie": [
           {
            "automargin": true,
            "type": "pie"
           }
          ],
          "scatter": [
           {
            "marker": {
             "colorbar": {
              "outlinewidth": 0,
              "ticks": ""
             }
            },
            "type": "scatter"
           }
          ],
          "scatter3d": [
           {
            "line": {
             "colorbar": {
              "outlinewidth": 0,
              "ticks": ""
             }
            },
            "marker": {
             "colorbar": {
              "outlinewidth": 0,
              "ticks": ""
             }
            },
            "type": "scatter3d"
           }
          ],
          "scattercarpet": [
           {
            "marker": {
             "colorbar": {
              "outlinewidth": 0,
              "ticks": ""
             }
            },
            "type": "scattercarpet"
           }
          ],
          "scattergeo": [
           {
            "marker": {
             "colorbar": {
              "outlinewidth": 0,
              "ticks": ""
             }
            },
            "type": "scattergeo"
           }
          ],
          "scattergl": [
           {
            "marker": {
             "colorbar": {
              "outlinewidth": 0,
              "ticks": ""
             }
            },
            "type": "scattergl"
           }
          ],
          "scattermapbox": [
           {
            "marker": {
             "colorbar": {
              "outlinewidth": 0,
              "ticks": ""
             }
            },
            "type": "scattermapbox"
           }
          ],
          "scatterpolar": [
           {
            "marker": {
             "colorbar": {
              "outlinewidth": 0,
              "ticks": ""
             }
            },
            "type": "scatterpolar"
           }
          ],
          "scatterpolargl": [
           {
            "marker": {
             "colorbar": {
              "outlinewidth": 0,
              "ticks": ""
             }
            },
            "type": "scatterpolargl"
           }
          ],
          "scatterternary": [
           {
            "marker": {
             "colorbar": {
              "outlinewidth": 0,
              "ticks": ""
             }
            },
            "type": "scatterternary"
           }
          ],
          "surface": [
           {
            "colorbar": {
             "outlinewidth": 0,
             "ticks": ""
            },
            "colorscale": [
             [
              0,
              "#0d0887"
             ],
             [
              0.1111111111111111,
              "#46039f"
             ],
             [
              0.2222222222222222,
              "#7201a8"
             ],
             [
              0.3333333333333333,
              "#9c179e"
             ],
             [
              0.4444444444444444,
              "#bd3786"
             ],
             [
              0.5555555555555556,
              "#d8576b"
             ],
             [
              0.6666666666666666,
              "#ed7953"
             ],
             [
              0.7777777777777778,
              "#fb9f3a"
             ],
             [
              0.8888888888888888,
              "#fdca26"
             ],
             [
              1,
              "#f0f921"
             ]
            ],
            "type": "surface"
           }
          ],
          "table": [
           {
            "cells": {
             "fill": {
              "color": "#EBF0F8"
             },
             "line": {
              "color": "white"
             }
            },
            "header": {
             "fill": {
              "color": "#C8D4E3"
             },
             "line": {
              "color": "white"
             }
            },
            "type": "table"
           }
          ]
         },
         "layout": {
          "annotationdefaults": {
           "arrowcolor": "#2a3f5f",
           "arrowhead": 0,
           "arrowwidth": 1
          },
          "coloraxis": {
           "colorbar": {
            "outlinewidth": 0,
            "ticks": ""
           }
          },
          "colorscale": {
           "diverging": [
            [
             0,
             "#8e0152"
            ],
            [
             0.1,
             "#c51b7d"
            ],
            [
             0.2,
             "#de77ae"
            ],
            [
             0.3,
             "#f1b6da"
            ],
            [
             0.4,
             "#fde0ef"
            ],
            [
             0.5,
             "#f7f7f7"
            ],
            [
             0.6,
             "#e6f5d0"
            ],
            [
             0.7,
             "#b8e186"
            ],
            [
             0.8,
             "#7fbc41"
            ],
            [
             0.9,
             "#4d9221"
            ],
            [
             1,
             "#276419"
            ]
           ],
           "sequential": [
            [
             0,
             "#0d0887"
            ],
            [
             0.1111111111111111,
             "#46039f"
            ],
            [
             0.2222222222222222,
             "#7201a8"
            ],
            [
             0.3333333333333333,
             "#9c179e"
            ],
            [
             0.4444444444444444,
             "#bd3786"
            ],
            [
             0.5555555555555556,
             "#d8576b"
            ],
            [
             0.6666666666666666,
             "#ed7953"
            ],
            [
             0.7777777777777778,
             "#fb9f3a"
            ],
            [
             0.8888888888888888,
             "#fdca26"
            ],
            [
             1,
             "#f0f921"
            ]
           ],
           "sequentialminus": [
            [
             0,
             "#0d0887"
            ],
            [
             0.1111111111111111,
             "#46039f"
            ],
            [
             0.2222222222222222,
             "#7201a8"
            ],
            [
             0.3333333333333333,
             "#9c179e"
            ],
            [
             0.4444444444444444,
             "#bd3786"
            ],
            [
             0.5555555555555556,
             "#d8576b"
            ],
            [
             0.6666666666666666,
             "#ed7953"
            ],
            [
             0.7777777777777778,
             "#fb9f3a"
            ],
            [
             0.8888888888888888,
             "#fdca26"
            ],
            [
             1,
             "#f0f921"
            ]
           ]
          },
          "colorway": [
           "#636efa",
           "#EF553B",
           "#00cc96",
           "#ab63fa",
           "#FFA15A",
           "#19d3f3",
           "#FF6692",
           "#B6E880",
           "#FF97FF",
           "#FECB52"
          ],
          "font": {
           "color": "#2a3f5f"
          },
          "geo": {
           "bgcolor": "white",
           "lakecolor": "white",
           "landcolor": "#E5ECF6",
           "showlakes": true,
           "showland": true,
           "subunitcolor": "white"
          },
          "hoverlabel": {
           "align": "left"
          },
          "hovermode": "closest",
          "mapbox": {
           "style": "light"
          },
          "paper_bgcolor": "white",
          "plot_bgcolor": "#E5ECF6",
          "polar": {
           "angularaxis": {
            "gridcolor": "white",
            "linecolor": "white",
            "ticks": ""
           },
           "bgcolor": "#E5ECF6",
           "radialaxis": {
            "gridcolor": "white",
            "linecolor": "white",
            "ticks": ""
           }
          },
          "scene": {
           "xaxis": {
            "backgroundcolor": "#E5ECF6",
            "gridcolor": "white",
            "gridwidth": 2,
            "linecolor": "white",
            "showbackground": true,
            "ticks": "",
            "zerolinecolor": "white"
           },
           "yaxis": {
            "backgroundcolor": "#E5ECF6",
            "gridcolor": "white",
            "gridwidth": 2,
            "linecolor": "white",
            "showbackground": true,
            "ticks": "",
            "zerolinecolor": "white"
           },
           "zaxis": {
            "backgroundcolor": "#E5ECF6",
            "gridcolor": "white",
            "gridwidth": 2,
            "linecolor": "white",
            "showbackground": true,
            "ticks": "",
            "zerolinecolor": "white"
           }
          },
          "shapedefaults": {
           "line": {
            "color": "#2a3f5f"
           }
          },
          "ternary": {
           "aaxis": {
            "gridcolor": "white",
            "linecolor": "white",
            "ticks": ""
           },
           "baxis": {
            "gridcolor": "white",
            "linecolor": "white",
            "ticks": ""
           },
           "bgcolor": "#E5ECF6",
           "caxis": {
            "gridcolor": "white",
            "linecolor": "white",
            "ticks": ""
           }
          },
          "title": {
           "x": 0.05
          },
          "xaxis": {
           "automargin": true,
           "gridcolor": "white",
           "linecolor": "white",
           "ticks": "",
           "title": {
            "standoff": 15
           },
           "zerolinecolor": "white",
           "zerolinewidth": 2
          },
          "yaxis": {
           "automargin": true,
           "gridcolor": "white",
           "linecolor": "white",
           "ticks": "",
           "title": {
            "standoff": 15
           },
           "zerolinecolor": "white",
           "zerolinewidth": 2
          }
         }
        },
        "title": {
         "text": "<b>Countries with reported confirmed cases, Deaths, Recovered of 2019-nCoV,<br> 9 february 2020</b>"
        }
       }
      },
      "text/html": [
       "<div>\n",
       "        \n",
       "        \n",
       "            <div id=\"3ec880ad-10a0-4bc1-b73c-bbdae93f5966\" class=\"plotly-graph-div\" style=\"height:525px; width:100%;\"></div>\n",
       "            <script type=\"text/javascript\">\n",
       "                require([\"plotly\"], function(Plotly) {\n",
       "                    window.PLOTLYENV=window.PLOTLYENV || {};\n",
       "                    \n",
       "                if (document.getElementById(\"3ec880ad-10a0-4bc1-b73c-bbdae93f5966\")) {\n",
       "                    Plotly.newPlot(\n",
       "                        '3ec880ad-10a0-4bc1-b73c-bbdae93f5966',\n",
       "                        [{\"hoverinfo\": \"text\", \"lat\": [-25.0, 50.641949, -10.861639, 12.4425, 56.511018, 33.0, 26.317301, 64.524025, 46.623974, 51.090614, 22.278333, 27.0858, 43.524673, 7.6869, 36.652302, 22.194401, 39.916668, 2.5961, 23.93034, 28.1553, 15.8564, 65.067703, 1.3681, 36.635601, 40.93, 7.3434, 62.835373, 23.534, 15.0086, 54.0, 39.390897, 23.341, 16.7603], \"lon\": [134.0, 4.659539, -53.104038, 104.733704, -105.908203, 100.0, 29.0548, 26.287458, 2.462247, 10.382207, 114.158889, 80.314003, 12.1605, -5.6958, 138.192093, 113.536499, 116.383331, 112.883904, -102.510521, 84.196503, 121.131104, 116.8564, 103.799004, 127.500603, -3.4, 80.719398, 16.742456, 120.559402, 100.955704, -2.0, -99.066067, 52.9063, 106.656601], \"marker\": {\"color\": \"rgb(255,0,0)\", \"opacity\": 0.7, \"size\": 17}, \"mode\": \"markers\", \"text\": [\"Australia\", \"Belgium\", \"Brazil\", \"Cambodia\", \"Canada\", \"China\", \"Egypt\", \"Finland\", \"France\", \"Germany\", \"Hong Kong\", \"India\", \"Italy\", \"Ivory Coast\", \"Japan\", \"Macau\", \"Mainland China\", \"Malaysia\", \"Mexico\", \"Nepal\", \"Philippines\", \"Russia\", \"Singapore\", \"South Korea\", \"Spain\", \"Sri Lanka\", \"Sweden\", \"Taiwan\", \"Thailand\", \"UK\", \"US\", \"United Arab Emirates\", \"Vietnam\"], \"type\": \"scattergeo\"}, {\"hoverinfo\": \"none\", \"lat\": [-25.0, 50.641949, -10.861639, 12.4425, 56.511018, 33.0, 26.317301, 64.524025, 46.623974, 51.090614, 22.278333, 27.0858, 43.524673, 7.6869, 36.652302, 22.194401, 39.916668, 2.5961, 23.93034, 28.1553, 15.8564, 65.067703, 1.3681, 36.635601, 40.93, 7.3434, 62.835373, 23.534, 15.0086, 54.0, 39.390897, 23.341, 16.7603], \"lon\": [134.0, 4.659539, -53.104038, 104.733704, -105.908203, 100.0, 29.0548, 26.287458, 2.462247, 10.382207, 114.158889, 80.314003, 12.1605, -5.6958, 138.192093, 113.536499, 116.383331, 112.883904, -102.510521, 84.196503, 121.131104, 116.8564, 103.799004, 127.500603, -3.4, 80.719398, 16.742456, 120.559402, 100.955704, -2.0, -99.066067, 52.9063, 106.656601], \"marker\": {\"color\": \"rgb(242, 177, 172)\", \"opacity\": 0.7, \"size\": 8}, \"mode\": \"markers\", \"type\": \"scattergeo\"}],\n",
       "                        {\"autosize\": true, \"font\": {\"color\": \"black\", \"family\": \"Arial, Balto, Courier New, Droid Sans\"}, \"geo\": {\"coastlinecolor\": \"black\", \"countrycolor\": \"black\", \"landcolor\": \"rgb(229, 229, 229)\", \"projection\": {\"type\": \"natural earth\"}, \"showcoastlines\": true, \"showcountries\": true, \"showframe\": false}, \"hovermode\": \"closest\", \"showlegend\": false, \"template\": {\"data\": {\"bar\": [{\"error_x\": {\"color\": \"#2a3f5f\"}, \"error_y\": {\"color\": \"#2a3f5f\"}, \"marker\": {\"line\": {\"color\": \"#E5ECF6\", \"width\": 0.5}}, \"type\": \"bar\"}], \"barpolar\": [{\"marker\": {\"line\": {\"color\": \"#E5ECF6\", \"width\": 0.5}}, \"type\": \"barpolar\"}], \"carpet\": [{\"aaxis\": {\"endlinecolor\": \"#2a3f5f\", \"gridcolor\": \"white\", \"linecolor\": \"white\", \"minorgridcolor\": \"white\", \"startlinecolor\": \"#2a3f5f\"}, \"baxis\": {\"endlinecolor\": \"#2a3f5f\", \"gridcolor\": \"white\", \"linecolor\": \"white\", \"minorgridcolor\": \"white\", \"startlinecolor\": \"#2a3f5f\"}, \"type\": \"carpet\"}], \"choropleth\": [{\"colorbar\": {\"outlinewidth\": 0, \"ticks\": \"\"}, \"type\": \"choropleth\"}], \"contour\": [{\"colorbar\": {\"outlinewidth\": 0, \"ticks\": \"\"}, \"colorscale\": [[0.0, \"#0d0887\"], [0.1111111111111111, \"#46039f\"], [0.2222222222222222, \"#7201a8\"], [0.3333333333333333, \"#9c179e\"], [0.4444444444444444, \"#bd3786\"], [0.5555555555555556, \"#d8576b\"], [0.6666666666666666, \"#ed7953\"], [0.7777777777777778, \"#fb9f3a\"], [0.8888888888888888, \"#fdca26\"], [1.0, \"#f0f921\"]], \"type\": \"contour\"}], \"contourcarpet\": [{\"colorbar\": {\"outlinewidth\": 0, \"ticks\": \"\"}, \"type\": \"contourcarpet\"}], \"heatmap\": [{\"colorbar\": {\"outlinewidth\": 0, \"ticks\": \"\"}, \"colorscale\": [[0.0, \"#0d0887\"], [0.1111111111111111, \"#46039f\"], [0.2222222222222222, \"#7201a8\"], [0.3333333333333333, \"#9c179e\"], [0.4444444444444444, \"#bd3786\"], [0.5555555555555556, \"#d8576b\"], [0.6666666666666666, \"#ed7953\"], [0.7777777777777778, \"#fb9f3a\"], [0.8888888888888888, \"#fdca26\"], [1.0, \"#f0f921\"]], \"type\": \"heatmap\"}], \"heatmapgl\": [{\"colorbar\": {\"outlinewidth\": 0, \"ticks\": \"\"}, \"colorscale\": [[0.0, \"#0d0887\"], [0.1111111111111111, \"#46039f\"], [0.2222222222222222, \"#7201a8\"], [0.3333333333333333, \"#9c179e\"], [0.4444444444444444, \"#bd3786\"], [0.5555555555555556, \"#d8576b\"], [0.6666666666666666, \"#ed7953\"], [0.7777777777777778, \"#fb9f3a\"], [0.8888888888888888, \"#fdca26\"], [1.0, \"#f0f921\"]], \"type\": \"heatmapgl\"}], \"histogram\": [{\"marker\": {\"colorbar\": {\"outlinewidth\": 0, \"ticks\": \"\"}}, \"type\": \"histogram\"}], \"histogram2d\": [{\"colorbar\": {\"outlinewidth\": 0, \"ticks\": \"\"}, \"colorscale\": [[0.0, \"#0d0887\"], [0.1111111111111111, \"#46039f\"], [0.2222222222222222, \"#7201a8\"], [0.3333333333333333, \"#9c179e\"], [0.4444444444444444, \"#bd3786\"], [0.5555555555555556, \"#d8576b\"], [0.6666666666666666, \"#ed7953\"], [0.7777777777777778, \"#fb9f3a\"], [0.8888888888888888, \"#fdca26\"], [1.0, \"#f0f921\"]], \"type\": \"histogram2d\"}], \"histogram2dcontour\": [{\"colorbar\": {\"outlinewidth\": 0, \"ticks\": \"\"}, \"colorscale\": [[0.0, \"#0d0887\"], [0.1111111111111111, \"#46039f\"], [0.2222222222222222, \"#7201a8\"], [0.3333333333333333, \"#9c179e\"], [0.4444444444444444, \"#bd3786\"], [0.5555555555555556, \"#d8576b\"], [0.6666666666666666, \"#ed7953\"], [0.7777777777777778, \"#fb9f3a\"], [0.8888888888888888, \"#fdca26\"], [1.0, \"#f0f921\"]], \"type\": \"histogram2dcontour\"}], \"mesh3d\": [{\"colorbar\": {\"outlinewidth\": 0, \"ticks\": \"\"}, \"type\": \"mesh3d\"}], \"parcoords\": [{\"line\": {\"colorbar\": {\"outlinewidth\": 0, \"ticks\": \"\"}}, \"type\": \"parcoords\"}], \"pie\": [{\"automargin\": true, \"type\": \"pie\"}], \"scatter\": [{\"marker\": {\"colorbar\": {\"outlinewidth\": 0, \"ticks\": \"\"}}, \"type\": \"scatter\"}], \"scatter3d\": [{\"line\": {\"colorbar\": {\"outlinewidth\": 0, \"ticks\": \"\"}}, \"marker\": {\"colorbar\": {\"outlinewidth\": 0, \"ticks\": \"\"}}, \"type\": \"scatter3d\"}], \"scattercarpet\": [{\"marker\": {\"colorbar\": {\"outlinewidth\": 0, \"ticks\": \"\"}}, \"type\": \"scattercarpet\"}], \"scattergeo\": [{\"marker\": {\"colorbar\": {\"outlinewidth\": 0, \"ticks\": \"\"}}, \"type\": \"scattergeo\"}], \"scattergl\": [{\"marker\": {\"colorbar\": {\"outlinewidth\": 0, \"ticks\": \"\"}}, \"type\": \"scattergl\"}], \"scattermapbox\": [{\"marker\": {\"colorbar\": {\"outlinewidth\": 0, \"ticks\": \"\"}}, \"type\": \"scattermapbox\"}], \"scatterpolar\": [{\"marker\": {\"colorbar\": {\"outlinewidth\": 0, \"ticks\": \"\"}}, \"type\": \"scatterpolar\"}], \"scatterpolargl\": [{\"marker\": {\"colorbar\": {\"outlinewidth\": 0, \"ticks\": \"\"}}, \"type\": \"scatterpolargl\"}], \"scatterternary\": [{\"marker\": {\"colorbar\": {\"outlinewidth\": 0, \"ticks\": \"\"}}, \"type\": \"scatterternary\"}], \"surface\": [{\"colorbar\": {\"outlinewidth\": 0, \"ticks\": \"\"}, \"colorscale\": [[0.0, \"#0d0887\"], [0.1111111111111111, \"#46039f\"], [0.2222222222222222, \"#7201a8\"], [0.3333333333333333, \"#9c179e\"], [0.4444444444444444, \"#bd3786\"], [0.5555555555555556, \"#d8576b\"], [0.6666666666666666, \"#ed7953\"], [0.7777777777777778, \"#fb9f3a\"], [0.8888888888888888, \"#fdca26\"], [1.0, \"#f0f921\"]], \"type\": \"surface\"}], \"table\": [{\"cells\": {\"fill\": {\"color\": \"#EBF0F8\"}, \"line\": {\"color\": \"white\"}}, \"header\": {\"fill\": {\"color\": \"#C8D4E3\"}, \"line\": {\"color\": \"white\"}}, \"type\": \"table\"}]}, \"layout\": {\"annotationdefaults\": {\"arrowcolor\": \"#2a3f5f\", \"arrowhead\": 0, \"arrowwidth\": 1}, \"coloraxis\": {\"colorbar\": {\"outlinewidth\": 0, \"ticks\": \"\"}}, \"colorscale\": {\"diverging\": [[0, \"#8e0152\"], [0.1, \"#c51b7d\"], [0.2, \"#de77ae\"], [0.3, \"#f1b6da\"], [0.4, \"#fde0ef\"], [0.5, \"#f7f7f7\"], [0.6, \"#e6f5d0\"], [0.7, \"#b8e186\"], [0.8, \"#7fbc41\"], [0.9, \"#4d9221\"], [1, \"#276419\"]], \"sequential\": [[0.0, \"#0d0887\"], [0.1111111111111111, \"#46039f\"], [0.2222222222222222, \"#7201a8\"], [0.3333333333333333, \"#9c179e\"], [0.4444444444444444, \"#bd3786\"], [0.5555555555555556, \"#d8576b\"], [0.6666666666666666, \"#ed7953\"], [0.7777777777777778, \"#fb9f3a\"], [0.8888888888888888, \"#fdca26\"], [1.0, \"#f0f921\"]], \"sequentialminus\": [[0.0, \"#0d0887\"], [0.1111111111111111, \"#46039f\"], [0.2222222222222222, \"#7201a8\"], [0.3333333333333333, \"#9c179e\"], [0.4444444444444444, \"#bd3786\"], [0.5555555555555556, \"#d8576b\"], [0.6666666666666666, \"#ed7953\"], [0.7777777777777778, \"#fb9f3a\"], [0.8888888888888888, \"#fdca26\"], [1.0, \"#f0f921\"]]}, \"colorway\": [\"#636efa\", \"#EF553B\", \"#00cc96\", \"#ab63fa\", \"#FFA15A\", \"#19d3f3\", \"#FF6692\", \"#B6E880\", \"#FF97FF\", \"#FECB52\"], \"font\": {\"color\": \"#2a3f5f\"}, \"geo\": {\"bgcolor\": \"white\", \"lakecolor\": \"white\", \"landcolor\": \"#E5ECF6\", \"showlakes\": true, \"showland\": true, \"subunitcolor\": \"white\"}, \"hoverlabel\": {\"align\": \"left\"}, \"hovermode\": \"closest\", \"mapbox\": {\"style\": \"light\"}, \"paper_bgcolor\": \"white\", \"plot_bgcolor\": \"#E5ECF6\", \"polar\": {\"angularaxis\": {\"gridcolor\": \"white\", \"linecolor\": \"white\", \"ticks\": \"\"}, \"bgcolor\": \"#E5ECF6\", \"radialaxis\": {\"gridcolor\": \"white\", \"linecolor\": \"white\", \"ticks\": \"\"}}, \"scene\": {\"xaxis\": {\"backgroundcolor\": \"#E5ECF6\", \"gridcolor\": \"white\", \"gridwidth\": 2, \"linecolor\": \"white\", \"showbackground\": true, \"ticks\": \"\", \"zerolinecolor\": \"white\"}, \"yaxis\": {\"backgroundcolor\": \"#E5ECF6\", \"gridcolor\": \"white\", \"gridwidth\": 2, \"linecolor\": \"white\", \"showbackground\": true, \"ticks\": \"\", \"zerolinecolor\": \"white\"}, \"zaxis\": {\"backgroundcolor\": \"#E5ECF6\", \"gridcolor\": \"white\", \"gridwidth\": 2, \"linecolor\": \"white\", \"showbackground\": true, \"ticks\": \"\", \"zerolinecolor\": \"white\"}}, \"shapedefaults\": {\"line\": {\"color\": \"#2a3f5f\"}}, \"ternary\": {\"aaxis\": {\"gridcolor\": \"white\", \"linecolor\": \"white\", \"ticks\": \"\"}, \"baxis\": {\"gridcolor\": \"white\", \"linecolor\": \"white\", \"ticks\": \"\"}, \"bgcolor\": \"#E5ECF6\", \"caxis\": {\"gridcolor\": \"white\", \"linecolor\": \"white\", \"ticks\": \"\"}}, \"title\": {\"x\": 0.05}, \"xaxis\": {\"automargin\": true, \"gridcolor\": \"white\", \"linecolor\": \"white\", \"ticks\": \"\", \"title\": {\"standoff\": 15}, \"zerolinecolor\": \"white\", \"zerolinewidth\": 2}, \"yaxis\": {\"automargin\": true, \"gridcolor\": \"white\", \"linecolor\": \"white\", \"ticks\": \"\", \"title\": {\"standoff\": 15}, \"zerolinecolor\": \"white\", \"zerolinewidth\": 2}}}, \"title\": {\"text\": \"<b>Countries with reported confirmed cases, Deaths, Recovered of 2019-nCoV,<br> 9 february 2020</b>\"}},\n",
       "                        {\"responsive\": true}\n",
       "                    ).then(function(){\n",
       "                            \n",
       "var gd = document.getElementById('3ec880ad-10a0-4bc1-b73c-bbdae93f5966');\n",
       "var x = new MutationObserver(function (mutations, observer) {{\n",
       "        var display = window.getComputedStyle(gd).display;\n",
       "        if (!display || display === 'none') {{\n",
       "            console.log([gd, 'removed!']);\n",
       "            Plotly.purge(gd);\n",
       "            observer.disconnect();\n",
       "        }}\n",
       "}});\n",
       "\n",
       "// Listen for the removal of the full notebook cells\n",
       "var notebookContainer = gd.closest('#notebook-container');\n",
       "if (notebookContainer) {{\n",
       "    x.observe(notebookContainer, {childList: true});\n",
       "}}\n",
       "\n",
       "// Listen for the clearing of the current output cell\n",
       "var outputEl = gd.closest('.output');\n",
       "if (outputEl) {{\n",
       "    x.observe(outputEl, {childList: true});\n",
       "}}\n",
       "\n",
       "                        })\n",
       "                };\n",
       "                });\n",
       "            </script>\n",
       "        </div>"
      ]
     },
     "metadata": {},
     "output_type": "display_data"
    }
   ],
   "source": [
    "temp = temp.drop([temp.index[20]])\n",
    "\n",
    "map_data = pd.DataFrame({\n",
    "    'name':list(temp['Country']),\n",
    "    'lat':[-25,50.641949,-10.861639,12.4425,56.511018,33,26.317301,64.524025,46.623974,51.090614,22.278333,27.0858,43.524673,7.6869,36.652302,22.194401,39.916668,2.5961,23.93034,28.1553,15.8564,65.067703,1.3681,36.635601,40.93,7.3434,62.835373,23.534,15.0086,54,39.390897,23.341,16.7603],\n",
    "    'lon':[134,4.659539, -53.104038,104.733704,-105.908203,100,29.0548,26.287458,2.462247,10.382207,114.158889,80.314003,12.1605,-5.6958,138.192093,113.536499,116.383331,112.883904,-102.510521,84.196503,121.131104,116.8564,103.799004,127.500603,-3.4,80.719398,16.742456,120.559402,100.955704,-2,-99.066067,52.9063,106.656601]\n",
    "})\n",
    "\n",
    "fig = go.Figure()\n",
    "\n",
    "fig.add_trace(go.Scattergeo(\n",
    "    lat = map_data['lat'],\n",
    "    lon = map_data['lon'],\n",
    "    mode = 'markers',\n",
    "    marker = dict(\n",
    "        size=17,\n",
    "        color='rgb(255,0,0)',\n",
    "        opacity=0.7\n",
    "    ),\n",
    "    text = map_data['name'],\n",
    "    hoverinfo = 'text'\n",
    "))\n",
    "\n",
    "fig.add_trace(go.Scattergeo(\n",
    "        lat=map_data['lat'],\n",
    "        lon=map_data['lon'],\n",
    "        mode='markers',\n",
    "        marker=dict(\n",
    "            size=8,\n",
    "            color='rgb(242, 177, 172)',\n",
    "            opacity=0.7\n",
    "        ),\n",
    "        hoverinfo='none'\n",
    "    ))\n",
    "\n",
    "fig.update_layout(\n",
    "        autosize=True,\n",
    "        hovermode='closest',\n",
    "        showlegend=False,\n",
    "        title_text = '<b>Countries with reported confirmed cases, Deaths, Recovered of 2019-nCoV,<br> 9 february 2020</b>',\n",
    "        font=dict(family=\"Arial, Balto, Courier New, Droid Sans\", color='black'),\n",
    "    geo = go.layout.Geo(\n",
    "        showframe = False,\n",
    "        showcoastlines = True,\n",
    "        showcountries = True,\n",
    "        landcolor = \"rgb(229, 229, 229)\",\n",
    "        countrycolor = \"black\",\n",
    "        coastlinecolor = \"black\",\n",
    "        projection_type=\"natural earth\"\n",
    "    ))\n",
    "\n",
    " \n",
    "fig.show()"
   ]
  },
  {
   "cell_type": "markdown",
   "metadata": {},
   "source": [
    "## Scenario in China "
   ]
  },
  {
   "cell_type": "code",
   "execution_count": 84,
   "metadata": {
    "ExecuteTime": {
     "end_time": "2020-02-28T16:55:39.435804Z",
     "start_time": "2020-02-28T16:55:39.411819Z"
    },
    "scrolled": false
   },
   "outputs": [
    {
     "ename": "KeyError",
     "evalue": "\"['Province/State'] not in index\"",
     "output_type": "error",
     "traceback": [
      "\u001b[1;31m---------------------------------------------------------------------------\u001b[0m",
      "\u001b[1;31mKeyError\u001b[0m                                  Traceback (most recent call last)",
      "\u001b[1;32m<ipython-input-84-76d0f462c48b>\u001b[0m in \u001b[0;36m<module>\u001b[1;34m\u001b[0m\n\u001b[1;32m----> 1\u001b[1;33m \u001b[0mchina_data\u001b[0m \u001b[1;33m=\u001b[0m \u001b[0mtemp\u001b[0m\u001b[1;33m[\u001b[0m\u001b[0mtemp\u001b[0m\u001b[1;33m[\u001b[0m\u001b[1;34m'Country'\u001b[0m\u001b[1;33m]\u001b[0m\u001b[1;33m==\u001b[0m\u001b[1;34m'Mainland China'\u001b[0m\u001b[1;33m]\u001b[0m\u001b[1;33m[\u001b[0m\u001b[1;33m[\u001b[0m\u001b[1;34m\"Province/State\"\u001b[0m\u001b[1;33m,\u001b[0m\u001b[1;34m\"Confirmed\"\u001b[0m\u001b[1;33m,\u001b[0m\u001b[1;34m\"Deaths\"\u001b[0m\u001b[1;33m,\u001b[0m\u001b[1;34m\"Recovered\"\u001b[0m\u001b[1;33m]\u001b[0m\u001b[1;33m]\u001b[0m\u001b[1;33m\u001b[0m\u001b[1;33m\u001b[0m\u001b[0m\n\u001b[0m\u001b[0;32m      2\u001b[0m \u001b[0mcm\u001b[0m \u001b[1;33m=\u001b[0m \u001b[0msns\u001b[0m\u001b[1;33m.\u001b[0m\u001b[0mlight_palette\u001b[0m\u001b[1;33m(\u001b[0m\u001b[1;34m'green'\u001b[0m\u001b[1;33m,\u001b[0m\u001b[0mas_cmap\u001b[0m\u001b[1;33m=\u001b[0m\u001b[1;32mTrue\u001b[0m\u001b[1;33m)\u001b[0m\u001b[1;33m\u001b[0m\u001b[1;33m\u001b[0m\u001b[0m\n\u001b[0;32m      3\u001b[0m \u001b[1;33m\u001b[0m\u001b[0m\n\u001b[0;32m      4\u001b[0m \u001b[1;31m# Set CSS Properties for Table Header\u001b[0m\u001b[1;33m\u001b[0m\u001b[1;33m\u001b[0m\u001b[1;33m\u001b[0m\u001b[0m\n\u001b[0;32m      5\u001b[0m th_props = [\n",
      "\u001b[1;32m~\\AppData\\Roaming\\Python\\Python37\\site-packages\\pandas\\core\\frame.py\u001b[0m in \u001b[0;36m__getitem__\u001b[1;34m(self, key)\u001b[0m\n\u001b[0;32m   2804\u001b[0m             \u001b[1;32mif\u001b[0m \u001b[0mis_iterator\u001b[0m\u001b[1;33m(\u001b[0m\u001b[0mkey\u001b[0m\u001b[1;33m)\u001b[0m\u001b[1;33m:\u001b[0m\u001b[1;33m\u001b[0m\u001b[1;33m\u001b[0m\u001b[0m\n\u001b[0;32m   2805\u001b[0m                 \u001b[0mkey\u001b[0m \u001b[1;33m=\u001b[0m \u001b[0mlist\u001b[0m\u001b[1;33m(\u001b[0m\u001b[0mkey\u001b[0m\u001b[1;33m)\u001b[0m\u001b[1;33m\u001b[0m\u001b[1;33m\u001b[0m\u001b[0m\n\u001b[1;32m-> 2806\u001b[1;33m             \u001b[0mindexer\u001b[0m \u001b[1;33m=\u001b[0m \u001b[0mself\u001b[0m\u001b[1;33m.\u001b[0m\u001b[0mloc\u001b[0m\u001b[1;33m.\u001b[0m\u001b[0m_get_listlike_indexer\u001b[0m\u001b[1;33m(\u001b[0m\u001b[0mkey\u001b[0m\u001b[1;33m,\u001b[0m \u001b[0maxis\u001b[0m\u001b[1;33m=\u001b[0m\u001b[1;36m1\u001b[0m\u001b[1;33m,\u001b[0m \u001b[0mraise_missing\u001b[0m\u001b[1;33m=\u001b[0m\u001b[1;32mTrue\u001b[0m\u001b[1;33m)\u001b[0m\u001b[1;33m[\u001b[0m\u001b[1;36m1\u001b[0m\u001b[1;33m]\u001b[0m\u001b[1;33m\u001b[0m\u001b[1;33m\u001b[0m\u001b[0m\n\u001b[0m\u001b[0;32m   2807\u001b[0m \u001b[1;33m\u001b[0m\u001b[0m\n\u001b[0;32m   2808\u001b[0m         \u001b[1;31m# take() does not accept boolean indexers\u001b[0m\u001b[1;33m\u001b[0m\u001b[1;33m\u001b[0m\u001b[1;33m\u001b[0m\u001b[0m\n",
      "\u001b[1;32m~\\AppData\\Roaming\\Python\\Python37\\site-packages\\pandas\\core\\indexing.py\u001b[0m in \u001b[0;36m_get_listlike_indexer\u001b[1;34m(self, key, axis, raise_missing)\u001b[0m\n\u001b[0;32m   1549\u001b[0m \u001b[1;33m\u001b[0m\u001b[0m\n\u001b[0;32m   1550\u001b[0m         self._validate_read_indexer(\n\u001b[1;32m-> 1551\u001b[1;33m             \u001b[0mkeyarr\u001b[0m\u001b[1;33m,\u001b[0m \u001b[0mindexer\u001b[0m\u001b[1;33m,\u001b[0m \u001b[0mo\u001b[0m\u001b[1;33m.\u001b[0m\u001b[0m_get_axis_number\u001b[0m\u001b[1;33m(\u001b[0m\u001b[0maxis\u001b[0m\u001b[1;33m)\u001b[0m\u001b[1;33m,\u001b[0m \u001b[0mraise_missing\u001b[0m\u001b[1;33m=\u001b[0m\u001b[0mraise_missing\u001b[0m\u001b[1;33m\u001b[0m\u001b[1;33m\u001b[0m\u001b[0m\n\u001b[0m\u001b[0;32m   1552\u001b[0m         )\n\u001b[0;32m   1553\u001b[0m         \u001b[1;32mreturn\u001b[0m \u001b[0mkeyarr\u001b[0m\u001b[1;33m,\u001b[0m \u001b[0mindexer\u001b[0m\u001b[1;33m\u001b[0m\u001b[1;33m\u001b[0m\u001b[0m\n",
      "\u001b[1;32m~\\AppData\\Roaming\\Python\\Python37\\site-packages\\pandas\\core\\indexing.py\u001b[0m in \u001b[0;36m_validate_read_indexer\u001b[1;34m(self, key, indexer, axis, raise_missing)\u001b[0m\n\u001b[0;32m   1642\u001b[0m             \u001b[1;32mif\u001b[0m \u001b[1;32mnot\u001b[0m \u001b[1;33m(\u001b[0m\u001b[0mself\u001b[0m\u001b[1;33m.\u001b[0m\u001b[0mname\u001b[0m \u001b[1;33m==\u001b[0m \u001b[1;34m\"loc\"\u001b[0m \u001b[1;32mand\u001b[0m \u001b[1;32mnot\u001b[0m \u001b[0mraise_missing\u001b[0m\u001b[1;33m)\u001b[0m\u001b[1;33m:\u001b[0m\u001b[1;33m\u001b[0m\u001b[1;33m\u001b[0m\u001b[0m\n\u001b[0;32m   1643\u001b[0m                 \u001b[0mnot_found\u001b[0m \u001b[1;33m=\u001b[0m \u001b[0mlist\u001b[0m\u001b[1;33m(\u001b[0m\u001b[0mset\u001b[0m\u001b[1;33m(\u001b[0m\u001b[0mkey\u001b[0m\u001b[1;33m)\u001b[0m \u001b[1;33m-\u001b[0m \u001b[0mset\u001b[0m\u001b[1;33m(\u001b[0m\u001b[0max\u001b[0m\u001b[1;33m)\u001b[0m\u001b[1;33m)\u001b[0m\u001b[1;33m\u001b[0m\u001b[1;33m\u001b[0m\u001b[0m\n\u001b[1;32m-> 1644\u001b[1;33m                 \u001b[1;32mraise\u001b[0m \u001b[0mKeyError\u001b[0m\u001b[1;33m(\u001b[0m\u001b[1;34mf\"{not_found} not in index\"\u001b[0m\u001b[1;33m)\u001b[0m\u001b[1;33m\u001b[0m\u001b[1;33m\u001b[0m\u001b[0m\n\u001b[0m\u001b[0;32m   1645\u001b[0m \u001b[1;33m\u001b[0m\u001b[0m\n\u001b[0;32m   1646\u001b[0m             \u001b[1;31m# we skip the warning on Categorical/Interval\u001b[0m\u001b[1;33m\u001b[0m\u001b[1;33m\u001b[0m\u001b[1;33m\u001b[0m\u001b[0m\n",
      "\u001b[1;31mKeyError\u001b[0m: \"['Province/State'] not in index\""
     ]
    }
   ],
   "source": [
    "china_data = temp[temp['Country']=='Mainland China'][[\"Province/State\",\"Confirmed\",\"Deaths\",\"Recovered\"]]\n",
    "cm = sns.light_palette('green',as_cmap=True)\n",
    "\n",
    "# Set CSS Properties for Table Header\n",
    "th_props = [\n",
    "    ('font-size','11px'),\n",
    "    ('font-weight','bold'),\n",
    "    ('text-align','center'),\n",
    "    ('color','#6d6d6d'),\n",
    "    ('background-color','#f7f7f9')\n",
    "]\n",
    "\n",
    "# Set CSS Props for Table Data\n",
    "td_props = [\n",
    "    ('font-size','11px'),\n",
    "    ('color','black')\n",
    "]\n",
    "\n",
    "# Set Table Styles\n",
    "styles = [\n",
    "  dict(selector=\"th\", props=th_props),\n",
    "  dict(selector=\"td\", props=td_props)\n",
    "  ]\n",
    "\n",
    "(china_data.style\n",
    "  .background_gradient(cmap=cm, subset=[\"Confirmed\",\"Deaths\",\"Recovered\"])\n",
    "  .highlight_max(subset=[\"Confirmed\",\"Deaths\",\"Recovered\"])\n",
    "  .set_table_styles(styles))"
   ]
  },
  {
   "cell_type": "code",
   "execution_count": 92,
   "metadata": {
    "ExecuteTime": {
     "end_time": "2020-02-28T17:00:28.622691Z",
     "start_time": "2020-02-28T17:00:28.592706Z"
    },
    "scrolled": false
   },
   "outputs": [
    {
     "data": {
      "text/plain": [
       "{'Anhui': Int64Index([   0,   38,   94,  130,  174,  220,  272,  324,  381,  441,  502,\n",
       "              569,  636,  706,  776,  846,  916,  988, 1060, 1132, 1204, 1277,\n",
       "             1350, 1424, 1499, 1574, 1649],\n",
       "            dtype='int64'),\n",
       " 'Arizona': Int64Index([204, 251, 303, 356, 412, 471], dtype='int64'),\n",
       " 'Bavaria': Int64Index([266, 318, 372, 428, 487], dtype='int64'),\n",
       " 'Beijing': Int64Index([   1,   39,   86,  131,  176,  224,  278,  330,  387,  446,  508,\n",
       "              576,  642,  712,  781,  851,  922,  994, 1066, 1138, 1211, 1284,\n",
       "             1357, 1431, 1506, 1581, 1657],\n",
       "            dtype='int64'),\n",
       " 'Boston, MA': Int64Index([ 558,  626,  695,  765,  835,  905,  977, 1049, 1121, 1193, 1265,\n",
       "             1338, 1412, 1487, 1562, 1637, 1712],\n",
       "            dtype='int64'),\n",
       " 'British Columbia': Int64Index([ 313,  366,  422,  481,  550,  619,  687,  757,  827,  887,  957,\n",
       "             1029, 1101, 1174, 1246, 1319, 1392, 1466, 1541, 1616, 1689],\n",
       "            dtype='int64'),\n",
       " 'California': Int64Index([203, 250, 302, 355, 411, 470], dtype='int64'),\n",
       " 'Chicago': Int64Index([117], dtype='int64'),\n",
       " 'Chicago, IL': Int64Index([ 547,  616,  683,  752,  822,  893,  965, 1037, 1110, 1182, 1254,\n",
       "             1327, 1400, 1474, 1549, 1624, 1699],\n",
       "            dtype='int64'),\n",
       " 'Chongqing': Int64Index([   2,   40,   87,  128,  172,  219,  273,  325,  382,  440,  504,\n",
       "              571,  638,  707,  777,  847,  918,  991, 1063, 1135, 1207, 1280,\n",
       "             1353, 1427, 1502, 1577, 1652],\n",
       "            dtype='int64'),\n",
       " 'Cruise Ship': Int64Index([937, 1009], dtype='int64'),\n",
       " 'Diamond Princess cruise ship': Int64Index([1081, 1147, 1219, 1290, 1363, 1437, 1510, 1582, 1656], dtype='int64'),\n",
       " 'Fujian': Int64Index([   3,   41,   95,  140,  182,  228,  279,  332,  388,  447,  510,\n",
       "              577,  644,  713,  783,  854,  925,  997, 1069, 1141, 1213, 1286,\n",
       "             1360, 1434, 1509, 1585, 1660],\n",
       "            dtype='int64'),\n",
       " 'Gansu': Int64Index([   4,   42,  111,  148,  190,  238,  290,  342,  398,  456,  520,\n",
       "              586,  655,  724,  794,  864,  935, 1007, 1079, 1152, 1224, 1297,\n",
       "             1370, 1444, 1519, 1594, 1669],\n",
       "            dtype='int64'),\n",
       " 'Guangdong': Int64Index([   5,   43,   84,  126,  169,  218,  269,  321,  377,  436,  499,\n",
       "              566,  633,  702,  771,  841,  912,  984, 1056, 1128, 1200, 1273,\n",
       "             1346, 1420, 1495, 1570, 1645],\n",
       "            dtype='int64'),\n",
       " 'Guangxi': Int64Index([   6,   44,   89,  136,  181,  229,  281,  333,  389,  449,  512,\n",
       "              578,  647,  716,  786,  856,  927, 1000, 1072, 1144, 1215, 1289,\n",
       "             1362, 1436, 1511, 1586, 1662],\n",
       "            dtype='int64'),\n",
       " 'Guizhou': Int64Index([   7,   45,  104,  149,  194,  240,  294,  346,  402,  458,  521,\n",
       "              588,  654,  723,  793,  863,  933, 1005, 1076, 1149, 1220, 1293,\n",
       "             1366, 1440, 1515, 1590, 1665],\n",
       "            dtype='int64'),\n",
       " 'Hainan': Int64Index([   8,   46,   98,  138,  184,  231,  285,  337,  394,  454,  517,\n",
       "              583,  650,  719,  789,  859,  930, 1002, 1074, 1146, 1218, 1291,\n",
       "             1364, 1439, 1514, 1589, 1664],\n",
       "            dtype='int64'),\n",
       " 'Hebei': Int64Index([   9,   47,  110,  144,  188,  232,  283,  334,  390,  448,  513,\n",
       "              580,  648,  717,  787,  857,  928,  999, 1070, 1142, 1214, 1287,\n",
       "             1359, 1433, 1508, 1584, 1659],\n",
       "            dtype='int64'),\n",
       " 'Heilongjiang': Int64Index([  10,   48,  102,  141,  186,  233,  286,  338,  393,  453,  514,\n",
       "              582,  645,  714,  784,  853,  923,  995, 1067, 1139, 1210, 1283,\n",
       "             1356, 1430, 1505, 1580, 1655],\n",
       "            dtype='int64'),\n",
       " 'Henan': Int64Index([  11,   49,   96,  127,  171,  217,  271,  322,  378,  437,  500,\n",
       "              567,  634,  703,  773,  843,  914,  986, 1058, 1130, 1201, 1274,\n",
       "             1347, 1421, 1496, 1571, 1646],\n",
       "            dtype='int64'),\n",
       " 'Hong Kong': Int64Index([  12,   50,  108,  150,  193,  241,  296,  348,  404,  463,  530,\n",
       "              596,  663,  732,  802,  872,  942, 1015, 1086, 1158, 1229, 1302,\n",
       "             1376, 1450, 1525, 1601, 1676],\n",
       "            dtype='int64'),\n",
       " 'Hubei': Int64Index([  13,   51,   83,  124,  168,  215,  267,  319,  375,  434,  497,\n",
       "              564,  631,  700,  770,  840,  911,  983, 1055, 1127, 1199, 1272,\n",
       "             1345, 1419, 1494, 1569, 1644],\n",
       "            dtype='int64'),\n",
       " 'Hunan': Int64Index([  14,   52,   88,  129,  173,  221,  270,  323,  379,  438,  501,\n",
       "              568,  635,  704,  774,  844,  915,  987, 1059, 1131, 1203, 1276,\n",
       "             1349, 1423, 1498, 1573, 1648],\n",
       "            dtype='int64'),\n",
       " 'Illinois': Int64Index([158, 202, 249, 301, 354, 410, 469], dtype='int64'),\n",
       " 'Inner Mongolia': Int64Index([  15,   53,  114,  147,  192,  239,  291,  343,  400,  460,  523,\n",
       "              591,  657,  726,  796,  866,  938, 1010, 1082, 1154, 1227, 1301,\n",
       "             1373, 1448, 1524, 1598, 1673],\n",
       "            dtype='int64'),\n",
       " 'Jiangsu': Int64Index([  16,   54,   97,  137,  180,  226,  277,  329,  385,  444,  505,\n",
       "              572,  639,  708,  778,  848,  919,  990, 1062, 1134, 1206, 1279,\n",
       "             1352, 1426, 1501, 1576, 1651],\n",
       "            dtype='int64'),\n",
       " 'Jiangxi': Int64Index([  17,   55,   91,  135,  179,  225,  275,  326,  380,  439,  503,\n",
       "              570,  637,  705,  775,  845,  917,  989, 1061, 1133, 1205, 1278,\n",
       "             1351, 1425, 1500, 1575, 1650],\n",
       "            dtype='int64'),\n",
       " 'Jilin': Int64Index([  18,   56,  105,  152,  195,  243,  295,  344,  403,  462,  524,\n",
       "              589,  656,  725,  795,  865,  936, 1008, 1080, 1153, 1225, 1298,\n",
       "             1371, 1445, 1520, 1595, 1670],\n",
       "            dtype='int64'),\n",
       " 'Liaoning': Int64Index([  19,   57,  103,  139,  183,  234,  287,  339,  395,  452,  516,\n",
       "              584,  651,  720,  790,  861,  931, 1004, 1077, 1150, 1222, 1295,\n",
       "             1369, 1443, 1518, 1593, 1668],\n",
       "            dtype='int64'),\n",
       " 'London, ON': Int64Index([ 688,  758,  828,  898,  970, 1042, 1115, 1187, 1259, 1332, 1406,\n",
       "             1480, 1555, 1630, 1705],\n",
       "            dtype='int64'),\n",
       " 'Los Angeles, CA': Int64Index([ 559,  627,  696,  766,  836,  906,  978, 1050, 1122, 1194, 1266,\n",
       "             1339, 1413, 1488, 1563, 1638, 1713],\n",
       "            dtype='int64'),\n",
       " 'Macau': Int64Index([  20,   58,  109,  155,  196,  244,  298,  350,  407,  466,  535,\n",
       "              601,  668,  737,  808,  878,  950, 1024, 1096, 1168, 1240, 1313,\n",
       "             1386, 1460, 1535, 1610, 1685],\n",
       "            dtype='int64'),\n",
       " 'Madison, WI': Int64Index([907, 979, 1051, 1123, 1195, 1267, 1340, 1414, 1489, 1564, 1639,\n",
       "             1714],\n",
       "            dtype='int64'),\n",
       " 'New South Wales': Int64Index([ 264,  316,  369,  425,  484,  538,  606,  673,  742,  812,  882,\n",
       "              955, 1027, 1099, 1172, 1244, 1317, 1390, 1464, 1539, 1614, 1690],\n",
       "            dtype='int64'),\n",
       " 'Ningxia': Int64Index([  21,   59,  107,  151,  198,  242,  293,  347,  399,  459,  522,\n",
       "              590,  658,  727,  797,  868,  939, 1011, 1083, 1155, 1228, 1299,\n",
       "             1372, 1446, 1522, 1599, 1674],\n",
       "            dtype='int64'),\n",
       " 'Ontario': Int64Index([214, 260, 312, 365, 421, 480, 542, 608], dtype='int64'),\n",
       " 'Orange, CA': Int64Index([ 560,  628,  697,  767,  837,  908,  980, 1052, 1124, 1196, 1268,\n",
       "             1341, 1415, 1490, 1565, 1640, 1715],\n",
       "            dtype='int64'),\n",
       " 'Qinghai': Int64Index([  22,   60,  115,  156,  200,  245,  299,  351,  406,  465,  532,\n",
       "              598,  664,  733,  804,  874,  946, 1018, 1090, 1162, 1234, 1307,\n",
       "             1381, 1455, 1530, 1606, 1681],\n",
       "            dtype='int64'),\n",
       " 'Queensland': Int64Index([ 371,  427,  486,  541,  609,  676,  744,  814,  883,  953, 1026,\n",
       "             1098, 1171, 1243, 1316, 1389, 1463, 1538, 1613, 1688],\n",
       "            dtype='int64'),\n",
       " 'San Antonio, TX': Int64Index([1416, 1491, 1566, 1641, 1716], dtype='int64'),\n",
       " 'San Benito, CA': Int64Index([ 684,  753,  823,  894,  966, 1038, 1111, 1183, 1255, 1328, 1401,\n",
       "             1475, 1550, 1625, 1700],\n",
       "            dtype='int64'),\n",
       " 'San Diego County, CA': Int64Index([1269, 1342, 1402, 1476, 1551, 1626, 1701], dtype='int64'),\n",
       " 'Santa Clara, CA': Int64Index([ 561,  617,  685,  754,  824,  895,  967, 1039, 1112, 1184, 1256,\n",
       "             1329, 1403, 1477, 1552, 1627, 1702],\n",
       "            dtype='int64'),\n",
       " 'Seattle, WA': Int64Index([ 562,  629,  698,  768,  838,  909,  981, 1053, 1125, 1197, 1270,\n",
       "             1343, 1417, 1492, 1567, 1642, 1717],\n",
       "            dtype='int64'),\n",
       " 'Shaanxi': Int64Index([  23,   61,  101,  142,  185,  230,  282,  335,  392,  450,  511,\n",
       "              579,  646,  715,  785,  855,  926,  998, 1071, 1143, 1216, 1288,\n",
       "             1361, 1435, 1512, 1587, 1661],\n",
       "            dtype='int64'),\n",
       " 'Shandong': Int64Index([  24,   62,   93,  134,  177,  223,  274,  327,  383,  442,  507,\n",
       "              574,  641,  710,  779,  849,  920,  992, 1064, 1136, 1208, 1281,\n",
       "             1354, 1428, 1503, 1578, 1653],\n",
       "            dtype='int64'),\n",
       " 'Shanghai': Int64Index([  25,   63,   90,  133,  178,  227,  280,  331,  386,  445,  509,\n",
       "              575,  643,  711,  782,  852,  924,  996, 1068, 1140, 1212, 1285,\n",
       "             1358, 1432, 1507, 1583, 1658],\n",
       "            dtype='int64'),\n",
       " 'Shanxi': Int64Index([  26,   64,  113,  146,  191,  237,  288,  340,  396,  455,  518,\n",
       "              585,  652,  721,  791,  860,  932, 1003, 1075, 1148, 1221, 1294,\n",
       "             1367, 1441, 1516, 1591, 1666],\n",
       "            dtype='int64'),\n",
       " 'Sichuan': Int64Index([  27,   65,   92,  132,  175,  222,  276,  328,  384,  443,  506,\n",
       "              573,  640,  709,  780,  850,  921,  993, 1065, 1137, 1209, 1282,\n",
       "             1355, 1429, 1504, 1579, 1654],\n",
       "            dtype='int64'),\n",
       " 'South Australia': Int64Index([ 548,  610,  677,  746,  816,  886,  962, 1034, 1106, 1178, 1250,\n",
       "             1323, 1396, 1470, 1545, 1620, 1695],\n",
       "            dtype='int64'),\n",
       " 'Taiwan': Int64Index([  28,   66,  106,  154,  199,  246,  297,  349,  405,  464,  531,\n",
       "              600,  667,  736,  807,  875,  947, 1019, 1092, 1164, 1236, 1309,\n",
       "             1382, 1456, 1531, 1605, 1680],\n",
       "            dtype='int64'),\n",
       " 'Tempe, AZ': Int64Index([ 563,  630,  699,  769,  839,  910,  982, 1054, 1126, 1198, 1271,\n",
       "             1344, 1418, 1493, 1568, 1643, 1718],\n",
       "            dtype='int64'),\n",
       " 'Tianjin': Int64Index([  29,   67,   99,  143,  189,  236,  289,  341,  397,  457,  519,\n",
       "              587,  653,  722,  792,  862,  934, 1006, 1078, 1151, 1223, 1296,\n",
       "             1368, 1442, 1517, 1592, 1667],\n",
       "            dtype='int64'),\n",
       " 'Tibet': Int64Index([  30,   68,  352,  408,  467,  553,  621,  690,  760,  830,  900,\n",
       "              972, 1044, 1117, 1189, 1261, 1334, 1408, 1483, 1558, 1633, 1708],\n",
       "            dtype='int64'),\n",
       " 'Toronto, ON': Int64Index([ 678,  747,  817,  888,  963, 1035, 1107, 1179, 1251, 1324, 1397,\n",
       "             1471, 1546, 1621, 1696],\n",
       "            dtype='int64'),\n",
       " 'Victoria': Int64Index([ 265,  317,  370,  426,  485,  539,  607,  674,  743,  813,  884,\n",
       "              956, 1028, 1100, 1173, 1245, 1318, 1391, 1465, 1540, 1615, 1691],\n",
       "            dtype='int64'),\n",
       " 'Washington': Int64Index([31, 69, 116, 157, 201, 248, 300, 353, 409, 468], dtype='int64'),\n",
       " 'Xinjiang': Int64Index([  32,   70,  112,  153,  197,  247,  292,  345,  401,  461,  525,\n",
       "              592,  659,  728,  798,  869,  940, 1012, 1084, 1156, 1226, 1300,\n",
       "             1374, 1449, 1523, 1597, 1672],\n",
       "            dtype='int64'),\n",
       " 'Yunnan': Int64Index([  33,   71,  100,  145,  187,  235,  284,  336,  391,  451,  515,\n",
       "              581,  649,  718,  788,  858,  929, 1001, 1073, 1145, 1217, 1292,\n",
       "             1365, 1438, 1513, 1588, 1663],\n",
       "            dtype='int64'),\n",
       " 'Zhejiang': Int64Index([  34,   72,   85,  125,  170,  216,  268,  320,  376,  435,  498,\n",
       "              565,  632,  701,  772,  842,  913,  985, 1057, 1129, 1202, 1275,\n",
       "             1348, 1422, 1497, 1572, 1647],\n",
       "            dtype='int64')}"
      ]
     },
     "execution_count": 92,
     "metadata": {},
     "output_type": "execute_result"
    }
   ],
   "source": [
    "data.groupby('Province/State')[['Country','Confirmed','Deaths','Recovered']].groups"
   ]
  },
  {
   "cell_type": "code",
   "execution_count": null,
   "metadata": {},
   "outputs": [],
   "source": []
  }
 ],
 "metadata": {
  "kernelspec": {
   "display_name": "Python 3",
   "language": "python",
   "name": "python3"
  },
  "language_info": {
   "codemirror_mode": {
    "name": "ipython",
    "version": 3
   },
   "file_extension": ".py",
   "mimetype": "text/x-python",
   "name": "python",
   "nbconvert_exporter": "python",
   "pygments_lexer": "ipython3",
   "version": "3.7.6"
  }
 },
 "nbformat": 4,
 "nbformat_minor": 4
}
